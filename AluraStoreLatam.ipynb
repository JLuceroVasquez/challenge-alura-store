{
  "cells": [
    {
      "cell_type": "markdown",
      "metadata": {
        "colab_type": "text",
        "id": "view-in-github"
      },
      "source": [
        "<a href=\"https://colab.research.google.com/github/JLuceroVasquez/challenge-alura-store/blob/main/AluraStoreLatam.ipynb\" target=\"_parent\"><img src=\"https://colab.research.google.com/assets/colab-badge.svg\" alt=\"Open In Colab\"/></a>"
      ]
    },
    {
      "cell_type": "markdown",
      "metadata": {},
      "source": [
        "# Reto Alura Store\n",
        "El señor Juan desea conocer con base a sus datos de ventas ¿Qué tienda debe cerrar? Para ello se calculó 5 métricas y elaboró 8 gráficos que se analizaron en un reporte que concluye recomendando la venta de la tienda N° X. El presente trabajo se divide en las siguientes secciones, indicando las bibliotecas empleadas en cada una:\n",
        "\n",
        "**1. Preparando el entorno**\n",
        "- Instalación e importación de librerías y módulos (python, pandas, maplotlib, seaborn y plothy)\n",
        "- Importación de datos en dataframes (pandas)\n",
        "- Importación de datos en listas de diccionarios (python)\n",
        "\n",
        "**2. Cálculo de métricas**\n",
        "- Métrica 1: Ingreso total por cada tienda (python)\n",
        "- Métrica 2: Ventas por categoría (pandas)\n",
        "- Métrica 3: Valoración media por tienda (python)\n",
        "- Métrica 4: Productos más vendidos y menos vendidos (pandas)\n",
        "- Métrica 5: Valor del envío promedio por tienda (python)\n",
        "\n",
        "**3. Gráficos de desempeño financiero**\n",
        "- Gráfico 1 del desempeño financiero: Piechart de la distribución de ventas por cada tienda (pandas y maplotlib)\n",
        "- Gráfico 2 del desempeño financiero: Gráfico de línea con el resultado del ejercicio (Ingreso total menos valor de envío total) (pandas y maplotlib)\n",
        "\n",
        "**4. Gráfico de imagen institucional**\n",
        "- Gráfico 3 de la imagen institucional: Gráfico de cajas y bigotes con la distribución en cuartiles de la calificación recibida por las tiendas (pandas, seaborn y maplotlib)\n",
        "\n",
        "**5. Gráfico de desempeño geográfico**\n",
        "- Gráfico 1, 2, 3 y 4 del desempeño geográfico: 4 gráficos de mapas de calor correspondiente a las ventas según ubicación geográfica por cada tienda (pandas, plothy y maplotlib)\n",
        "- Gráfico 5 del desempeño geográfico: 1 gráfico de barras agrupadas correspondiente a las calificaciones promedios recibidas por cada tienda según el lugar de compra (pandas y maplotlib)\n",
        "\n",
        "**6. Informe final**"
      ]
    },
    {
      "cell_type": "markdown",
      "metadata": {
        "id": "RhEdWd9YUR6H"
      },
      "source": [
        "## 1. Preparando el entorno\n",
        "\n"
      ]
    },
    {
      "cell_type": "markdown",
      "metadata": {},
      "source": [
        "### Instalación de requisitos"
      ]
    },
    {
      "cell_type": "markdown",
      "metadata": {},
      "source": [
        "#### Instalamos las librerías: *Pandas, Matplotlib, Seaborn y Plotly*\n",
        "1. **Instala Python 3.11.9** desde el sitio oficial: https://www.python.org/downloads/\n",
        "    - Asegúrate de marcar la opción “Add Python to PATH” durante la instalación.\n",
        "\n",
        "2. **Copia el proyecto completo** incluyendo los archivos requirements.txt y .gitignore.\n",
        "\n",
        "3. Abre **Visual Studio Code** (o cualquier otro IDE) desde la carpeta del proyecto y abre una terminal integrada.\n",
        "4. **Crea un entorno virtual:**\n",
        "    - En Windows, ejecutar: *python -m venv venv*\n",
        "\n",
        "    - En Linux o MacOS, ejecutar: *python3 -m venv venv*\n",
        "5. **Activa el entorno virtual:**\n",
        "    - En GitBash o PowerShell (Window), ejecutar: *source venv/Scripts/activate*\n",
        "    \n",
        "      En Window, se puede ejecutar también: *.\\venv\\Scripts\\Activate.ps1*\n",
        "    - En Linux o MacOS, ejecutar: *source venv/bin/activate*\n",
        "6. **Instalar las dependencias:**\n",
        "    - Ejecutar: *pip install -r requirements.txt*\n",
        "\n",
        "Con estos pasos instalamos todas las dependencias en un entorno virtual aislado que harán funcionar nuestro código en cualquier dispositivo con Python 3.11+ y acceso a internet."
      ]
    },
    {
      "cell_type": "code",
      "execution_count": 3,
      "metadata": {},
      "outputs": [],
      "source": [
        "# Importamos las liberías Pandas, Matlplotlib , Seaborn y Plotly. Importandos los módulos de matplotlib y plotly diseñados exclusivamente para crear gráficos.\n",
        "import pandas as pd\n",
        "import matplotlib.pyplot as plt\n",
        "import seaborn as sns\n",
        "import plotly.express as px\n",
        "\n",
        "# Importamos el módulo CSV y la función urlopen de la biblioteca estándar de Python.\n",
        "import csv #Este módulo permite leer y escribir archivos csv con Python\n",
        "from urllib.request import urlopen #Esta función permite abrir archivos CSV"
      ]
    },
    {
      "cell_type": "markdown",
      "metadata": {},
      "source": [
        "### Método de importación 1: Con Pandas"
      ]
    },
    {
      "cell_type": "code",
      "execution_count": 5,
      "metadata": {
        "colab": {
          "base_uri": "https://localhost:8080/",
          "height": 293
        },
        "id": "1f_cueaGG0LL",
        "outputId": "b8394469-5909-4fcc-b072-0cb715db5073"
      },
      "outputs": [
        {
          "data": {
            "text/html": [
              "<div>\n",
              "<style scoped>\n",
              "    .dataframe tbody tr th:only-of-type {\n",
              "        vertical-align: middle;\n",
              "    }\n",
              "\n",
              "    .dataframe tbody tr th {\n",
              "        vertical-align: top;\n",
              "    }\n",
              "\n",
              "    .dataframe thead th {\n",
              "        text-align: right;\n",
              "    }\n",
              "</style>\n",
              "<table border=\"1\" class=\"dataframe\">\n",
              "  <thead>\n",
              "    <tr style=\"text-align: right;\">\n",
              "      <th></th>\n",
              "      <th>Producto</th>\n",
              "      <th>Categoría del Producto</th>\n",
              "      <th>Precio</th>\n",
              "      <th>Costo de envío</th>\n",
              "      <th>Fecha de Compra</th>\n",
              "      <th>Vendedor</th>\n",
              "      <th>Lugar de Compra</th>\n",
              "      <th>Calificación</th>\n",
              "      <th>Método de pago</th>\n",
              "      <th>Cantidad de cuotas</th>\n",
              "      <th>lat</th>\n",
              "      <th>lon</th>\n",
              "      <th>Tienda</th>\n",
              "    </tr>\n",
              "  </thead>\n",
              "  <tbody>\n",
              "    <tr>\n",
              "      <th>0</th>\n",
              "      <td>Asistente virtual</td>\n",
              "      <td>Electrónicos</td>\n",
              "      <td>164300.0</td>\n",
              "      <td>6900.0</td>\n",
              "      <td>16/01/2021</td>\n",
              "      <td>Pedro Gomez</td>\n",
              "      <td>Bogotá</td>\n",
              "      <td>4</td>\n",
              "      <td>Tarjeta de crédito</td>\n",
              "      <td>8</td>\n",
              "      <td>4.60971</td>\n",
              "      <td>-74.08175</td>\n",
              "      <td>Tienda 1</td>\n",
              "    </tr>\n",
              "    <tr>\n",
              "      <th>1</th>\n",
              "      <td>Mesa de comedor</td>\n",
              "      <td>Muebles</td>\n",
              "      <td>192300.0</td>\n",
              "      <td>8400.0</td>\n",
              "      <td>18/05/2022</td>\n",
              "      <td>Beatriz Morales</td>\n",
              "      <td>Medellín</td>\n",
              "      <td>1</td>\n",
              "      <td>Tarjeta de crédito</td>\n",
              "      <td>4</td>\n",
              "      <td>6.25184</td>\n",
              "      <td>-75.56359</td>\n",
              "      <td>Tienda 1</td>\n",
              "    </tr>\n",
              "    <tr>\n",
              "      <th>2</th>\n",
              "      <td>Juego de mesa</td>\n",
              "      <td>Juguetes</td>\n",
              "      <td>209600.0</td>\n",
              "      <td>15900.0</td>\n",
              "      <td>15/03/2021</td>\n",
              "      <td>Juan Fernandez</td>\n",
              "      <td>Cartagena</td>\n",
              "      <td>1</td>\n",
              "      <td>Tarjeta de crédito</td>\n",
              "      <td>1</td>\n",
              "      <td>10.39972</td>\n",
              "      <td>-75.51444</td>\n",
              "      <td>Tienda 1</td>\n",
              "    </tr>\n",
              "    <tr>\n",
              "      <th>3</th>\n",
              "      <td>Microondas</td>\n",
              "      <td>Electrodomésticos</td>\n",
              "      <td>757500.0</td>\n",
              "      <td>41000.0</td>\n",
              "      <td>03/05/2022</td>\n",
              "      <td>Juan Fernandez</td>\n",
              "      <td>Cali</td>\n",
              "      <td>4</td>\n",
              "      <td>Nequi</td>\n",
              "      <td>1</td>\n",
              "      <td>3.43722</td>\n",
              "      <td>-76.52250</td>\n",
              "      <td>Tienda 1</td>\n",
              "    </tr>\n",
              "    <tr>\n",
              "      <th>4</th>\n",
              "      <td>Silla de oficina</td>\n",
              "      <td>Muebles</td>\n",
              "      <td>335200.0</td>\n",
              "      <td>20200.0</td>\n",
              "      <td>07/11/2020</td>\n",
              "      <td>Maria Alfonso</td>\n",
              "      <td>Medellín</td>\n",
              "      <td>5</td>\n",
              "      <td>Nequi</td>\n",
              "      <td>1</td>\n",
              "      <td>6.25184</td>\n",
              "      <td>-75.56359</td>\n",
              "      <td>Tienda 1</td>\n",
              "    </tr>\n",
              "  </tbody>\n",
              "</table>\n",
              "</div>"
            ],
            "text/plain": [
              "            Producto Categoría del Producto    Precio  Costo de envío  \\\n",
              "0  Asistente virtual           Electrónicos  164300.0          6900.0   \n",
              "1    Mesa de comedor                Muebles  192300.0          8400.0   \n",
              "2      Juego de mesa               Juguetes  209600.0         15900.0   \n",
              "3         Microondas      Electrodomésticos  757500.0         41000.0   \n",
              "4   Silla de oficina                Muebles  335200.0         20200.0   \n",
              "\n",
              "  Fecha de Compra         Vendedor Lugar de Compra  Calificación  \\\n",
              "0      16/01/2021      Pedro Gomez          Bogotá             4   \n",
              "1      18/05/2022  Beatriz Morales        Medellín             1   \n",
              "2      15/03/2021   Juan Fernandez       Cartagena             1   \n",
              "3      03/05/2022   Juan Fernandez            Cali             4   \n",
              "4      07/11/2020    Maria Alfonso        Medellín             5   \n",
              "\n",
              "       Método de pago  Cantidad de cuotas       lat       lon    Tienda  \n",
              "0  Tarjeta de crédito                   8   4.60971 -74.08175  Tienda 1  \n",
              "1  Tarjeta de crédito                   4   6.25184 -75.56359  Tienda 1  \n",
              "2  Tarjeta de crédito                   1  10.39972 -75.51444  Tienda 1  \n",
              "3               Nequi                   1   3.43722 -76.52250  Tienda 1  \n",
              "4               Nequi                   1   6.25184 -75.56359  Tienda 1  "
            ]
          },
          "execution_count": 5,
          "metadata": {},
          "output_type": "execute_result"
        }
      ],
      "source": [
        "# Nombramos variables por cada archivo csv que importaremos.\n",
        "url1 = \"https://raw.githubusercontent.com/JLuceroVasquez/challenge-alura-store/refs/heads/main/base-de-datos-challenge1-latam/tienda_1%20.csv\"\n",
        "url2 = \"https://raw.githubusercontent.com/JLuceroVasquez/challenge-alura-store/refs/heads/main/base-de-datos-challenge1-latam/tienda_2.csv\"\n",
        "url3 = \"https://raw.githubusercontent.com/JLuceroVasquez/challenge-alura-store/refs/heads/main/base-de-datos-challenge1-latam/tienda_3.csv\"\n",
        "url4 = \"https://raw.githubusercontent.com/JLuceroVasquez/challenge-alura-store/refs/heads/main/base-de-datos-challenge1-latam/tienda_4.csv\"\n",
        "\n",
        "# Con el método read_csv generamos un dataframe de pandas por cada archivo, y los asignamos a variables.\n",
        "tienda1_pd = pd.read_csv(url1)\n",
        "tienda2_pd = pd.read_csv(url2)\n",
        "tienda3_pd = pd.read_csv(url3)\n",
        "tienda4_pd = pd.read_csv(url4)\n",
        "\n",
        "# Creamos una lista con los nombres de los dataframe creados.\n",
        "lista_tiendas_pd = [tienda1_pd, tienda2_pd, tienda3_pd, tienda4_pd]\n",
        "\n",
        "# Unificamos los dataframe en un solo dataframe general con concat. Esto nos permitirá hacer modificaciones más rápidos: Calculo de nuevos campos y agrupamiento de filas.\n",
        "tiendas_pd_unificado = pd.concat(\n",
        "    # Se listan los dataframe que se unirán.\n",
        "    [tienda.assign(Tienda=f'Tienda {i+1}') for i,tienda in enumerate(lista_tiendas_pd)], # Mediante el método assign se añade una columna con el nombre de la tienda a la que corresponden los datos.\n",
        "    # Se unen los dataframe mediante en el eje cero (unión vertical), agregando filas.\n",
        "    axis= 0,\n",
        "    # Se ignoran los índices de los dataframe originales, estableciendo nuevos índices para el dataframe unificado.\n",
        "    ignore_index= True,\n",
        ")\n",
        "\n",
        "# Mostramos como ejemplo las primeras filas del dataframe unificado para visualizar que se cargaron correctamente los datos.\n",
        "tiendas_pd_unificado.head(5)\n"
      ]
    },
    {
      "cell_type": "markdown",
      "metadata": {},
      "source": [
        "### Método de importación 2: Con funciones de la biblioteca estándar de Python"
      ]
    },
    {
      "cell_type": "code",
      "execution_count": 6,
      "metadata": {},
      "outputs": [
        {
          "data": {
            "text/plain": [
              "{'Producto': 'Asistente virtual',\n",
              " 'Categoría del Producto': 'Electrónicos',\n",
              " 'Precio': '164300.0',\n",
              " 'Costo de envío': '6900.0',\n",
              " 'Fecha de Compra': '16/01/2021',\n",
              " 'Vendedor': 'Pedro Gomez',\n",
              " 'Lugar de Compra': 'Bogotá',\n",
              " 'Calificación': '4',\n",
              " 'Método de pago': 'Tarjeta de crédito',\n",
              " 'Cantidad de cuotas': '8',\n",
              " 'lat': '4.60971',\n",
              " 'lon': '-74.08175'}"
            ]
          },
          "execution_count": 6,
          "metadata": {},
          "output_type": "execute_result"
        }
      ],
      "source": [
        "# Creamos la función leer_csv que permite cargar los datos en listas de diccionarios empleando funciones de la biblioteca estándar de Python.\n",
        "def leer_csv(url: str=\"\") -> list:\n",
        "    '''Función para cargar los datos de archivos csv en una lista de diccionarios\n",
        "\n",
        "    url: str, default \"\"\n",
        "        Variable asociada al url del archivo csv\n",
        "    return = datos: list\n",
        "        Lista de diccionarios con los datos del archivo csv\n",
        "    '''\n",
        "    # Se crea la lista vacía datos que almacenará los diccionarios, siendo cada diccionario una línea del archivo csv.\n",
        "    datos = []\n",
        "\n",
        "    # Abrir la url como si de un archivo se tratase.\n",
        "    with urlopen(url) as respuesta:\n",
        "\n",
        "        # Se decodifica en utf-8 cada línea del archivo.\n",
        "        lineas = respuesta.read().decode('utf-8').splitlines()\n",
        "\n",
        "        # Se convierte cada línea en un diccionario.\n",
        "        lector = csv.DictReader(lineas)\n",
        "\n",
        "        # Se añade cada diccionario a la lista datos.\n",
        "        for linea in lector:\n",
        "            datos.append(linea)\n",
        "    \n",
        "    #Retornamos la lista de diccionarios\n",
        "    return datos\n",
        "\n",
        "# Con la función generamos una lista de diccionarios por cada archivo, y las asignamos a variables.\n",
        "tienda1_py=leer_csv(url1)\n",
        "tienda2_py=leer_csv(url2)\n",
        "tienda3_py=leer_csv(url3)\n",
        "tienda4_py=leer_csv(url4)\n",
        "\n",
        "# Creamos una lista que contenga los datos de las 4 tiendas\n",
        "tiendas_py = [tienda1_py, tienda2_py, tienda3_py, tienda4_py]\n",
        "\n",
        "# Mostramos como ejemplo el primer elemento de lista tienda1_py para comprobar que se crearon correctamente las listas.\n",
        "tienda1_py[0]"
      ]
    },
    {
      "cell_type": "markdown",
      "metadata": {
        "id": "X62IW3KFUIYm"
      },
      "source": [
        "## 2. Cálculo de métricas\n",
        "En esta sección, se intercaló el uso de las funciones de la librería estándar de Python y las funciones de la librería Pandas. Ello con la finalidad de mostrar dos de los muchos posibles caminos para el análisis de datos en Python.\n",
        "\n"
      ]
    },
    {
      "cell_type": "markdown",
      "metadata": {},
      "source": [
        "### Métrica 1: Ingreso total por cada tienda\n",
        "Para el cálculo de la métrica 1 se emplearán las funciones nativas de Python. El ingreso se define como el dinero percibido por las tiendas al efectuar la venta. Es decir, es la **suma de los valores correspondientes a la columna Precio**."
      ]
    },
    {
      "cell_type": "code",
      "execution_count": 35,
      "metadata": {
        "id": "xykobSftV64I"
      },
      "outputs": [
        {
          "name": "stdout",
          "output_type": "stream",
          "text": [
            "Los ingresos de la tienda 1 son: $1150880400.00\n",
            "Los ingresos de la tienda 2 son: $1116343500.00\n",
            "Los ingresos de la tienda 3 son: $1098019600.00\n",
            "Los ingresos de la tienda 4 son: $1038375700.00\n",
            "Los ingresos totales son $4403619200.00\n"
          ]
        }
      ],
      "source": [
        "# Creamos la función que suma los valores de la columna Precio.\n",
        "def calcular_ingresos(datos: list=[0]) -> float:\n",
        "    '''Función que suma los valores cuya clave es Precio en los diccionarios\n",
        "\n",
        "    datos: list, default [0]\n",
        "        Son los datos de ventas de la tienda evaluada\n",
        "\n",
        "    return = ingresos: float\n",
        "        Suma de los precios de los productos vendidos en la tienda evaluada\n",
        "    '''\n",
        "    # Se crea una lista que contendrá los valores asociados a la clave precio en los diccionarios.\n",
        "    ingresos = 0\n",
        "\n",
        "    # Se crea una lista que contendrá las claves que podrían contener el precio.\n",
        "    claves = ['precio','Precio']\n",
        "\n",
        "    # Se itera en la lista \"datos\".\n",
        "    for i,diccionario in enumerate(datos):\n",
        "\n",
        "        # Se prueba todas las claves válidas.\n",
        "        for clave in claves:\n",
        "\n",
        "            # Se verifica la condición de que alguna de las claves válidas sea clave en el diccionario.\n",
        "            if clave in diccionario:\n",
        "                \n",
        "                # Si alguna de las palabras es clave en el diccionario, se intenta convertir su valor a decimal.\n",
        "                try:\n",
        "                    ingresos += float(diccionario[clave])\n",
        "\n",
        "                # Si el valor no se puede convertir en un decimal, se produce un ValueError que se maneja en except.\n",
        "                except ValueError:\n",
        "                \n",
        "                    # Se ignorar el valor que no se puede convertir en un decimal.\n",
        "                    continue\n",
        "\n",
        "                #Salir del bucle for si encontró una clave válida (condición = TRUE), sin importar que haya sido posible o no convertir su valor en decimal\n",
        "                break\n",
        "\n",
        "        # Al agotarse las claves válidas, sin que ninguna haya cumplido la condición de encontrarse en el diccionario (condición = FALSE), se devuelve un KeyError.\n",
        "        else:\n",
        "            raise KeyError(f'No se encuentra ninguna de estas palabras en el diccionario n° {i+1}: {claves}')\n",
        "\n",
        "    # Retornamos la suma de los precios\n",
        "    return ingresos\n",
        "\n",
        "# Creamos una lista vacía que almacenará los ingresos calculados de cada tienda.\n",
        "ingreso_total = []\n",
        "\n",
        "# Aplicamos la función calcular_ingresos a las listas de diccionarios ya creadas con un ciclo for.\n",
        "for i,datos in enumerate(tiendas_py):\n",
        "    ingresos_tienda = calcular_ingresos(datos)\n",
        "\n",
        "    # Añadimos el ingreso de la tienda a la lista ingresos_total\n",
        "    ingreso_total.append(ingresos_tienda)\n",
        "\n",
        "    # Imprimimos un mensaje con los resultados por tienda y total.\n",
        "    print(f'Los ingresos de la tienda {i+1} son: ${ingresos_tienda:.2f}')\n",
        "\n",
        "# Se muestra la suma los valores de la lista ingreso total.\n",
        "print(f'Los ingresos totales son ${sum(ingreso_total):.2f}')"
      ]
    },
    {
      "cell_type": "markdown",
      "metadata": {},
      "source": [
        "### Métrica 2: Ventas por categoría\n",
        "Para el cálculo de la métrica 2 se emplearán las funciones y métodos de Pandas para operar Dataframes. Las ventas se definen como dinero percibido (ingresos) y que espera recibir a futuro (cuotas). Es decir, las ventas son la **multiplicación de los valores correspondientes a las columnas Precio y Cantidad de cuotas**."
      ]
    },
    {
      "cell_type": "code",
      "execution_count": 11,
      "metadata": {
        "id": "KDyr8E71V3m-"
      },
      "outputs": [
        {
          "name": "stdout",
          "output_type": "stream",
          "text": [
            "\n",
            "Ventas por categorías en la Tienda 1\n",
            "Artículos para el hogar: $38316800.00\n",
            "Deportes y diversión: $126883700.00\n",
            "Electrodomésticos: $1032375600.00\n",
            "Electrónicos: $1290390700.00\n",
            "Instrumentos musicales: $276990500.00\n",
            "Juguetes: $49062800.00\n",
            "Libros: $25769400.00\n",
            "Muebles: $582928200.00\n",
            "\n",
            "Ventas por categorías en la Tienda 2\n",
            "Artículos para el hogar: $42739700.00\n",
            "Deportes y diversión: $81660600.00\n",
            "Electrodomésticos: $1026226300.00\n",
            "Electrónicos: $1286643600.00\n",
            "Instrumentos musicales: $294448700.00\n",
            "Juguetes: $46721200.00\n",
            "Libros: $31417000.00\n",
            "Muebles: $527332100.00\n",
            "\n",
            "Ventas por categorías en la Tienda 3\n",
            "Artículos para el hogar: $44724600.00\n",
            "Deportes y diversión: $123399200.00\n",
            "Electrodomésticos: $1081380800.00\n",
            "Electrónicos: $1101334500.00\n",
            "Instrumentos musicales: $250336000.00\n",
            "Juguetes: $61190400.00\n",
            "Libros: $26358900.00\n",
            "Muebles: $555092500.00\n",
            "\n",
            "Ventas por categorías en la Tienda 4\n",
            "Artículos para el hogar: $44579300.00\n",
            "Deportes y diversión: $100062000.00\n",
            "Electrodomésticos: $879089600.00\n",
            "Electrónicos: $1211446500.00\n",
            "Instrumentos musicales: $222837200.00\n",
            "Juguetes: $54641200.00\n",
            "Libros: $29543400.00\n",
            "Muebles: $556628000.00\n",
            "Las ventas totales son $13102551000.00\n"
          ]
        }
      ],
      "source": [
        "# Convertimos los valores de \"Precio\" y \"Cantidad de cuotas\" a números.\n",
        "tiendas_pd_unificado[\"Precio\"] = tiendas_pd_unificado[\"Precio\"].astype(float) #El método astype permite convertir los valores de toda una serie en cierto tipo de datos.\n",
        "tiendas_pd_unificado[\"Cantidad de cuotas\"] = tiendas_pd_unificado[\"Cantidad de cuotas\"].astype(int)\n",
        "\n",
        "# Calculamos el campo \"Ventas\" multiplicando las columnas \"Precio\" y \"Cantidad de cuotas\" del dataframe unificado.\n",
        "tiendas_pd_unificado[\"Ventas\"] = tiendas_pd_unificado[\"Precio\"] * tiendas_pd_unificado[\"Cantidad de cuotas\"]\n",
        "\n",
        "# Reducimos el tamaño del dataframe agrupando las ventas según tienda y categoría, sumando los valores del campo \"Ventas\".\n",
        "tiendas_pd_ventas = tiendas_pd_unificado.groupby([\"Tienda\",\"Categoría del Producto\"])[\"Ventas\"].sum().reset_index() # Con reset_index(), los índices actuales (campos bajo los que estamos agrupando los datos, Tienda y Categoría) se convierten en una serie de pandas (columna) y un nuevo índice se añade.\n",
        "\n",
        "# Definimos una función que genere mensajes con las ventas por categoría en cada tienda.\n",
        "def calcular_ventas(tienda: str=None): # No establecer un valor por defecto para el parámetro evita efectos secundarios si se modifica al llamar múltiple veces la función.\n",
        "    '''Función que multiplica los valores de Precio y Cantidad de Cuotas por cada venta y los suma\n",
        "\n",
        "    tienda: str, default None\n",
        "        Son los datos de ventas de la tienda evaluada\n",
        "    '''\n",
        "    # Filtramos las filas del dataframe correspondiente a la tienda pasada como argumento de la función.\n",
        "    ventas_tienda = tiendas_pd_ventas[tiendas_pd_ventas[\"Tienda\"]==tienda]\n",
        "        # tiendas_pd_ventas['Tienda'] == tienda devuelve una serie booleana (True o False).\n",
        "        # tiendas_pd_ventas[...] filtra solo las filas donde esa comparación sea True.\n",
        "\n",
        "    # Imprimimos el nombre de la tienda a la que corresponden los datos\n",
        "    print(f\"\\nVentas por categorías en la {tienda}\")\n",
        "    # Iteramos en las filas del dataframe tienda_pd para imprimir las ventas por categoría.\n",
        "    for __,serie in ventas_tienda.iterrows(): # La serie contiene los datos de cada fila, y se comporta como un diccionario. El guión bajo _ es una convención en Python que significa: \"no voy a usar esta variable\".\n",
        "        print(f'{serie[\"Categoría del Producto\"]}: ${serie[\"Ventas\"]:.2f}')\n",
        "\n",
        "# Creamos una lista con los valores únicos de la columna \"Tienda\" del dataframe unificado\n",
        "nombres_tiendas = tiendas_pd_unificado[\"Tienda\"].unique()\n",
        "\n",
        "# Ejecutamos la función calcular_ventas tantas veces como nombres de tiendas exista.\n",
        "for tienda in nombres_tiendas:\n",
        "    calcular_ventas(tienda)\n",
        "\n",
        "# Calculamos e imprimimos un mensaje con las ventas totales de las tiendas\n",
        "ventas_totales = tiendas_pd_ventas[\"Ventas\"].sum()\n",
        "print(f\"Las ventas totales son ${ventas_totales:.2f}\")"
      ]
    },
    {
      "cell_type": "markdown",
      "metadata": {},
      "source": [
        "### Métrica 3: Valoración media por tienda"
      ]
    },
    {
      "cell_type": "code",
      "execution_count": null,
      "metadata": {},
      "outputs": [],
      "source": []
    },
    {
      "cell_type": "markdown",
      "metadata": {},
      "source": [
        "### Métrica 4: Productos más vendidos y menos vendidos"
      ]
    },
    {
      "cell_type": "code",
      "execution_count": null,
      "metadata": {},
      "outputs": [],
      "source": []
    },
    {
      "cell_type": "markdown",
      "metadata": {},
      "source": [
        "### Métrica 5: Valor del envío promedio por tienda"
      ]
    },
    {
      "cell_type": "code",
      "execution_count": null,
      "metadata": {},
      "outputs": [],
      "source": []
    },
    {
      "cell_type": "markdown",
      "metadata": {
        "id": "2V_vcAPzWZmR"
      },
      "source": [
        "## 3. Gráficos de desempeño financiero"
      ]
    },
    {
      "cell_type": "markdown",
      "metadata": {},
      "source": [
        "### Gráfico 1: Distribución de ventas según tienda"
      ]
    },
    {
      "cell_type": "code",
      "execution_count": null,
      "metadata": {
        "id": "A34YupIuYhfF"
      },
      "outputs": [],
      "source": []
    },
    {
      "cell_type": "markdown",
      "metadata": {},
      "source": [
        "### Gráfico 2: Resultado del ejercicio según tienda"
      ]
    },
    {
      "cell_type": "code",
      "execution_count": null,
      "metadata": {
        "id": "yZR6cOjXYSk1"
      },
      "outputs": [],
      "source": []
    },
    {
      "cell_type": "markdown",
      "metadata": {
        "id": "Rq6tU_xSY3jk"
      },
      "source": [
        "## 4. Gráfico de imagen institucional\n"
      ]
    },
    {
      "cell_type": "markdown",
      "metadata": {},
      "source": [
        "### Gráfico 3: Distribución de la calificación recibida según tienda"
      ]
    },
    {
      "cell_type": "code",
      "execution_count": null,
      "metadata": {
        "id": "bh3jjjJwY5MU"
      },
      "outputs": [],
      "source": []
    },
    {
      "cell_type": "markdown",
      "metadata": {
        "id": "DmNp1KPBZCm-"
      },
      "source": [
        "## 5. Gráfico de desempeño geográfico"
      ]
    },
    {
      "cell_type": "markdown",
      "metadata": {},
      "source": [
        "### Gráficos 4, 5, 6 y 7: Mapas de calor correspondiente a las ventas de cada tienda"
      ]
    },
    {
      "cell_type": "code",
      "execution_count": null,
      "metadata": {
        "id": "qoyjqijQZHfF"
      },
      "outputs": [],
      "source": []
    },
    {
      "cell_type": "markdown",
      "metadata": {},
      "source": [
        "### Gráfico 8: Calificaciones promedios recibidas por cada tienda según el lugar de compra"
      ]
    },
    {
      "cell_type": "code",
      "execution_count": null,
      "metadata": {
        "id": "0Sw3sd4IZIGW"
      },
      "outputs": [],
      "source": []
    },
    {
      "cell_type": "markdown",
      "metadata": {
        "id": "Fl0cGi3bZKqU"
      },
      "source": [
        "## 6. Informe final"
      ]
    }
  ],
  "metadata": {
    "colab": {
      "include_colab_link": true,
      "provenance": []
    },
    "kernelspec": {
      "display_name": "Python 3",
      "name": "python3"
    },
    "language_info": {
      "codemirror_mode": {
        "name": "ipython",
        "version": 3
      },
      "file_extension": ".py",
      "mimetype": "text/x-python",
      "name": "python",
      "nbconvert_exporter": "python",
      "pygments_lexer": "ipython3",
      "version": "3.11.9"
    }
  },
  "nbformat": 4,
  "nbformat_minor": 0
}
