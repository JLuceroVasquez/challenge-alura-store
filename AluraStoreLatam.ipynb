{
  "cells": [
    {
      "cell_type": "markdown",
      "metadata": {
        "colab_type": "text",
        "id": "view-in-github"
      },
      "source": [
        "<a href=\"https://colab.research.google.com/github/JLuceroVasquez/challenge-alura-store/blob/main/AluraStoreLatam.ipynb\" target=\"_parent\"><img src=\"https://colab.research.google.com/assets/colab-badge.svg\" alt=\"Open In Colab\"/></a>"
      ]
    },
    {
      "cell_type": "markdown",
      "metadata": {},
      "source": [
        "# Reto Alura Store\n",
        "El señor Juan desea conocer con base a sus datos de ventas ¿Qué tienda debe cerrar? Para ello se calculó 5 métricas y elaboró 8 gráficos que se analizaron en un reporte que concluye recomendando la venta de la tienda N° X. El presente trabajo se divide en las siguientes secciones, indicando las bibliotecas empleadas en cada una:\n",
        "\n",
        "**1. Preparando el entorno**\n",
        "- Instalación e importación de librerías y módulos (python, pandas, maplotlib, seaborn y plotly)\n",
        "- Importación de datos en dataframes (pandas)\n",
        "- Importación de datos en listas de diccionarios (python)\n",
        "\n",
        "**2. Cálculo de métricas**\n",
        "- Métrica 1: Ingreso total por cada tienda (python)\n",
        "- Métrica 2: Ventas por categoría (pandas)\n",
        "- Métrica 3: Valoración media por tienda (python)\n",
        "- Métrica 4: Productos más vendidos y menos vendidos (pandas)\n",
        "- Métrica 5: Valor del envío promedio por tienda (python)\n",
        "\n",
        "**3. Gráficos de desempeño financiero**\n",
        "- Gráfico 1 del desempeño financiero: Piechart de la distribución de ventas por cada tienda (pandas y maplotlib)\n",
        "- Gráfico 2 del desempeño financiero: Gráfico de línea con el resultado del ejercicio (Ingreso total menos valor de envío total) (pandas y maplotlib)\n",
        "\n",
        "**4. Gráfico de imagen institucional**\n",
        "- Gráfico 3 de la imagen institucional: Gráfico de cajas y bigotes con la distribución en cuartiles de la calificación recibida por las tiendas (pandas, seaborn y maplotlib)\n",
        "\n",
        "**5. Gráfico de desempeño geográfico**\n",
        "- Gráfico 1, 2, 3 y 4 del desempeño geográfico: 4 gráficos de mapas de calor correspondiente a las ventas según ubicación geográfica por cada tienda (pandas, plothy y maplotlib)\n",
        "- Gráfico 5 del desempeño geográfico: 1 gráfico de barras agrupadas correspondiente a las calificaciones promedios recibidas por cada tienda según el lugar de compra (pandas y maplotlib)\n",
        "\n",
        "**6. Informe final**"
      ]
    },
    {
      "cell_type": "markdown",
      "metadata": {
        "id": "RhEdWd9YUR6H"
      },
      "source": [
        "## 1. Preparando el entorno\n",
        "\n"
      ]
    },
    {
      "cell_type": "markdown",
      "metadata": {},
      "source": [
        "### Instalación de requisitos"
      ]
    },
    {
      "cell_type": "markdown",
      "metadata": {},
      "source": [
        "#### Instalamos las librerías: *Pandas, Matplotlib, Seaborn y Plotly*\n",
        "1. **Instala Python 3.11.9** desde el sitio oficial: https://www.python.org/downloads/\n",
        "    - Asegúrate de marcar la opción “Add Python to PATH” durante la instalación.\n",
        "\n",
        "2. **Copia el proyecto completo** incluyendo los archivos requirements.txt y .gitignore.\n",
        "\n",
        "3. Abre **Visual Studio Code** (o cualquier otro IDE) desde la carpeta del proyecto y abre una terminal integrada.\n",
        "4. **Crea un entorno virtual:**\n",
        "    - En Windows, ejecutar: *python -m venv venv*\n",
        "\n",
        "    - En Linux o MacOS, ejecutar: *python3 -m venv venv*\n",
        "5. **Activa el entorno virtual:**\n",
        "    - En GitBash o PowerShell (Window), ejecutar: *source venv/Scripts/activate*\n",
        "    \n",
        "      En Window, se puede ejecutar también: *.\\venv\\Scripts\\Activate.ps1*\n",
        "    - En Linux o MacOS, ejecutar: *source venv/bin/activate*\n",
        "6. **Instalar las dependencias:**\n",
        "    - Ejecutar: *pip install -r requirements.txt*\n",
        "\n",
        "Con estos pasos instalamos todas las dependencias en un entorno virtual aislado que harán funcionar nuestro código en cualquier dispositivo con Python 3.11+ y acceso a internet.\n",
        "Ahora, cada vez que se abra el proyecto y se deba seleccionar el kernell con el que se ejecutará el código, elegiremos el entorno virtual creado venv."
      ]
    },
    {
      "cell_type": "code",
      "execution_count": 69,
      "metadata": {},
      "outputs": [],
      "source": [
        "# Importamos las liberías Pandas, Matlplotlib , Seaborn y Plotly. Importandos los módulos de matplotlib y plotly diseñados exclusivamente para crear gráficos.\n",
        "import pandas as pd\n",
        "import matplotlib.pyplot as plt\n",
        "from matplotlib.lines import Line2D # Para la creación manual de leyendas en los gráficos\n",
        "from matplotlib.ticker import FuncFormatter # Para personalizar los valores que se muestran en las de los ejes\n",
        "import seaborn as sns\n",
        "import plotly.express as px\n",
        "\n",
        "# Importamos el módulo CSV y la función urlopen de la biblioteca estándar de Python.\n",
        "import csv #Este módulo permite leer y escribir archivos csv con Python\n",
        "from urllib.request import urlopen #Esta función permite abrir archivos CSV"
      ]
    },
    {
      "cell_type": "markdown",
      "metadata": {},
      "source": [
        "### Método de importación 1: Con Pandas"
      ]
    },
    {
      "cell_type": "code",
      "execution_count": 39,
      "metadata": {
        "colab": {
          "base_uri": "https://localhost:8080/",
          "height": 293
        },
        "id": "1f_cueaGG0LL",
        "outputId": "b8394469-5909-4fcc-b072-0cb715db5073"
      },
      "outputs": [
        {
          "data": {
            "text/html": [
              "<div>\n",
              "<style scoped>\n",
              "    .dataframe tbody tr th:only-of-type {\n",
              "        vertical-align: middle;\n",
              "    }\n",
              "\n",
              "    .dataframe tbody tr th {\n",
              "        vertical-align: top;\n",
              "    }\n",
              "\n",
              "    .dataframe thead th {\n",
              "        text-align: right;\n",
              "    }\n",
              "</style>\n",
              "<table border=\"1\" class=\"dataframe\">\n",
              "  <thead>\n",
              "    <tr style=\"text-align: right;\">\n",
              "      <th></th>\n",
              "      <th>Producto</th>\n",
              "      <th>Categoría del Producto</th>\n",
              "      <th>Precio</th>\n",
              "      <th>Costo de envío</th>\n",
              "      <th>Fecha de Compra</th>\n",
              "      <th>Vendedor</th>\n",
              "      <th>Lugar de Compra</th>\n",
              "      <th>Calificación</th>\n",
              "      <th>Método de pago</th>\n",
              "      <th>Cantidad de cuotas</th>\n",
              "      <th>lat</th>\n",
              "      <th>lon</th>\n",
              "      <th>Tienda</th>\n",
              "    </tr>\n",
              "  </thead>\n",
              "  <tbody>\n",
              "    <tr>\n",
              "      <th>0</th>\n",
              "      <td>Asistente virtual</td>\n",
              "      <td>Electrónicos</td>\n",
              "      <td>164300.0</td>\n",
              "      <td>6900.0</td>\n",
              "      <td>16/01/2021</td>\n",
              "      <td>Pedro Gomez</td>\n",
              "      <td>Bogotá</td>\n",
              "      <td>4</td>\n",
              "      <td>Tarjeta de crédito</td>\n",
              "      <td>8</td>\n",
              "      <td>4.60971</td>\n",
              "      <td>-74.08175</td>\n",
              "      <td>Tienda 1</td>\n",
              "    </tr>\n",
              "    <tr>\n",
              "      <th>1</th>\n",
              "      <td>Mesa de comedor</td>\n",
              "      <td>Muebles</td>\n",
              "      <td>192300.0</td>\n",
              "      <td>8400.0</td>\n",
              "      <td>18/05/2022</td>\n",
              "      <td>Beatriz Morales</td>\n",
              "      <td>Medellín</td>\n",
              "      <td>1</td>\n",
              "      <td>Tarjeta de crédito</td>\n",
              "      <td>4</td>\n",
              "      <td>6.25184</td>\n",
              "      <td>-75.56359</td>\n",
              "      <td>Tienda 1</td>\n",
              "    </tr>\n",
              "    <tr>\n",
              "      <th>2</th>\n",
              "      <td>Juego de mesa</td>\n",
              "      <td>Juguetes</td>\n",
              "      <td>209600.0</td>\n",
              "      <td>15900.0</td>\n",
              "      <td>15/03/2021</td>\n",
              "      <td>Juan Fernandez</td>\n",
              "      <td>Cartagena</td>\n",
              "      <td>1</td>\n",
              "      <td>Tarjeta de crédito</td>\n",
              "      <td>1</td>\n",
              "      <td>10.39972</td>\n",
              "      <td>-75.51444</td>\n",
              "      <td>Tienda 1</td>\n",
              "    </tr>\n",
              "    <tr>\n",
              "      <th>3</th>\n",
              "      <td>Microondas</td>\n",
              "      <td>Electrodomésticos</td>\n",
              "      <td>757500.0</td>\n",
              "      <td>41000.0</td>\n",
              "      <td>03/05/2022</td>\n",
              "      <td>Juan Fernandez</td>\n",
              "      <td>Cali</td>\n",
              "      <td>4</td>\n",
              "      <td>Nequi</td>\n",
              "      <td>1</td>\n",
              "      <td>3.43722</td>\n",
              "      <td>-76.52250</td>\n",
              "      <td>Tienda 1</td>\n",
              "    </tr>\n",
              "    <tr>\n",
              "      <th>4</th>\n",
              "      <td>Silla de oficina</td>\n",
              "      <td>Muebles</td>\n",
              "      <td>335200.0</td>\n",
              "      <td>20200.0</td>\n",
              "      <td>07/11/2020</td>\n",
              "      <td>Maria Alfonso</td>\n",
              "      <td>Medellín</td>\n",
              "      <td>5</td>\n",
              "      <td>Nequi</td>\n",
              "      <td>1</td>\n",
              "      <td>6.25184</td>\n",
              "      <td>-75.56359</td>\n",
              "      <td>Tienda 1</td>\n",
              "    </tr>\n",
              "  </tbody>\n",
              "</table>\n",
              "</div>"
            ],
            "text/plain": [
              "            Producto Categoría del Producto    Precio  Costo de envío  \\\n",
              "0  Asistente virtual           Electrónicos  164300.0          6900.0   \n",
              "1    Mesa de comedor                Muebles  192300.0          8400.0   \n",
              "2      Juego de mesa               Juguetes  209600.0         15900.0   \n",
              "3         Microondas      Electrodomésticos  757500.0         41000.0   \n",
              "4   Silla de oficina                Muebles  335200.0         20200.0   \n",
              "\n",
              "  Fecha de Compra         Vendedor Lugar de Compra  Calificación  \\\n",
              "0      16/01/2021      Pedro Gomez          Bogotá             4   \n",
              "1      18/05/2022  Beatriz Morales        Medellín             1   \n",
              "2      15/03/2021   Juan Fernandez       Cartagena             1   \n",
              "3      03/05/2022   Juan Fernandez            Cali             4   \n",
              "4      07/11/2020    Maria Alfonso        Medellín             5   \n",
              "\n",
              "       Método de pago  Cantidad de cuotas       lat       lon    Tienda  \n",
              "0  Tarjeta de crédito                   8   4.60971 -74.08175  Tienda 1  \n",
              "1  Tarjeta de crédito                   4   6.25184 -75.56359  Tienda 1  \n",
              "2  Tarjeta de crédito                   1  10.39972 -75.51444  Tienda 1  \n",
              "3               Nequi                   1   3.43722 -76.52250  Tienda 1  \n",
              "4               Nequi                   1   6.25184 -75.56359  Tienda 1  "
            ]
          },
          "execution_count": 39,
          "metadata": {},
          "output_type": "execute_result"
        }
      ],
      "source": [
        "# Nombramos variables por cada archivo csv que importaremos.\n",
        "url1 = \"https://raw.githubusercontent.com/JLuceroVasquez/challenge-alura-store/refs/heads/main/base-de-datos-challenge1-latam/tienda_1%20.csv\"\n",
        "url2 = \"https://raw.githubusercontent.com/JLuceroVasquez/challenge-alura-store/refs/heads/main/base-de-datos-challenge1-latam/tienda_2.csv\"\n",
        "url3 = \"https://raw.githubusercontent.com/JLuceroVasquez/challenge-alura-store/refs/heads/main/base-de-datos-challenge1-latam/tienda_3.csv\"\n",
        "url4 = \"https://raw.githubusercontent.com/JLuceroVasquez/challenge-alura-store/refs/heads/main/base-de-datos-challenge1-latam/tienda_4.csv\"\n",
        "\n",
        "# Con el método read_csv generamos un dataframe de pandas por cada archivo, y los asignamos a variables.\n",
        "tienda1_pd = pd.read_csv(url1)\n",
        "tienda2_pd = pd.read_csv(url2)\n",
        "tienda3_pd = pd.read_csv(url3)\n",
        "tienda4_pd = pd.read_csv(url4)\n",
        "\n",
        "# Creamos una lista con los nombres de los dataframe creados.\n",
        "lista_tiendas_pd = [tienda1_pd, tienda2_pd, tienda3_pd, tienda4_pd]\n",
        "\n",
        "# Unificamos los dataframe en un solo dataframe general con concat. Esto nos permitirá hacer modificaciones más rápido: Calculo de nuevos campos y agrupamiento de filas.\n",
        "tiendas_pd_unificado = pd.concat(\n",
        "    # Se listan los dataframe que se unirán.\n",
        "    [tienda.assign(Tienda=f'Tienda {i+1}') for i,tienda in enumerate(lista_tiendas_pd)], # Mediante el método assign se añade una columna con el nombre de la tienda a la que corresponden los datos.\n",
        "    # Se unen los dataframe mediante en el eje cero (unión vertical).\n",
        "    axis= 0,\n",
        "    # Se ignoran los índices de los dataframe originales, estableciendo nuevos índices para el dataframe unificado.\n",
        "    ignore_index= True,\n",
        ")\n",
        "\n",
        "# Mostramos como ejemplo las primeras filas del dataframe unificado para visualizar que se cargaron correctamente los datos.\n",
        "tiendas_pd_unificado.head(5)\n"
      ]
    },
    {
      "cell_type": "markdown",
      "metadata": {},
      "source": [
        "### Método de importación 2: Con funciones de la biblioteca estándar de Python"
      ]
    },
    {
      "cell_type": "code",
      "execution_count": 4,
      "metadata": {},
      "outputs": [
        {
          "data": {
            "text/plain": [
              "{'Producto': 'Asistente virtual',\n",
              " 'Categoría del Producto': 'Electrónicos',\n",
              " 'Precio': '164300.0',\n",
              " 'Costo de envío': '6900.0',\n",
              " 'Fecha de Compra': '16/01/2021',\n",
              " 'Vendedor': 'Pedro Gomez',\n",
              " 'Lugar de Compra': 'Bogotá',\n",
              " 'Calificación': '4',\n",
              " 'Método de pago': 'Tarjeta de crédito',\n",
              " 'Cantidad de cuotas': '8',\n",
              " 'lat': '4.60971',\n",
              " 'lon': '-74.08175'}"
            ]
          },
          "execution_count": 4,
          "metadata": {},
          "output_type": "execute_result"
        }
      ],
      "source": [
        "# Creamos la función leer_csv que permite cargar los datos en listas de diccionarios empleando funciones de la biblioteca estándar de Python.\n",
        "def leer_csv(url: str=\"\") -> list:\n",
        "    '''Función para cargar los datos de archivos csv en una lista de diccionarios\n",
        "\n",
        "    url: str, default \"\"\n",
        "        Variable asociada al url del archivo csv\n",
        "    return = datos: list\n",
        "        Lista de diccionarios con los datos del archivo csv\n",
        "    '''\n",
        "    # Se crea la lista vacía datos que almacenará los diccionarios, siendo cada diccionario una línea del archivo csv.\n",
        "    datos = []\n",
        "\n",
        "    # Abrir la url como si de un archivo se tratase.\n",
        "    with urlopen(url) as respuesta:\n",
        "\n",
        "        # Se decodifica en utf-8 cada línea del archivo.\n",
        "        lineas = respuesta.read().decode('utf-8').splitlines()\n",
        "\n",
        "        # Se convierte cada línea en un diccionario.\n",
        "        lector = csv.DictReader(lineas)\n",
        "\n",
        "        # Se añade cada diccionario a la lista datos.\n",
        "        for linea in lector:\n",
        "            datos.append(linea)\n",
        "    \n",
        "    #Retornamos la lista de diccionarios\n",
        "    return datos\n",
        "\n",
        "# Con la función generamos una lista de diccionarios por cada archivo, y las asignamos a variables.\n",
        "tienda1_py=leer_csv(url1)\n",
        "tienda2_py=leer_csv(url2)\n",
        "tienda3_py=leer_csv(url3)\n",
        "tienda4_py=leer_csv(url4)\n",
        "\n",
        "# Creamos una lista que contenga los datos de las 4 tiendas\n",
        "tiendas_py = [tienda1_py, tienda2_py, tienda3_py, tienda4_py]\n",
        "\n",
        "# Mostramos como ejemplo el primer elemento de lista tienda1_py para comprobar que se crearon correctamente las listas.\n",
        "tienda1_py[0]"
      ]
    },
    {
      "cell_type": "markdown",
      "metadata": {
        "id": "X62IW3KFUIYm"
      },
      "source": [
        "## 2. Cálculo de métricas\n",
        "En esta sección, se intercaló el uso de las funciones de la librería estándar de Python y las funciones de la librería Pandas. Ello con la finalidad de mostrar dos de los muchos posibles caminos para el análisis de datos en Python.\n",
        "\n"
      ]
    },
    {
      "cell_type": "markdown",
      "metadata": {},
      "source": [
        "### Métrica 1: Ingreso total por cada tienda\n",
        "Para el cálculo de la métrica 1 se emplearán las funciones nativas de Python. El ingreso se define como el dinero percibido por las tiendas al efectuar la venta. Es decir, es la **suma de los valores correspondientes a la columna Precio**."
      ]
    },
    {
      "cell_type": "code",
      "execution_count": 4,
      "metadata": {
        "id": "xykobSftV64I"
      },
      "outputs": [
        {
          "name": "stdout",
          "output_type": "stream",
          "text": [
            "Los ingresos de la tienda 1 son: $1150880400.00\n",
            "Los ingresos de la tienda 2 son: $1116343500.00\n",
            "Los ingresos de la tienda 3 son: $1098019600.00\n",
            "Los ingresos de la tienda 4 son: $1038375700.00\n",
            "Los ingresos totales son $4403619200.00\n"
          ]
        }
      ],
      "source": [
        "# Creamos la función que suma los valores de la columna Precio.\n",
        "def calcular_ingresos(datos: list=[0]) -> float:\n",
        "    '''Función que suma los valores cuya clave es Precio en los diccionarios\n",
        "\n",
        "    datos: list, default [0]\n",
        "        Son los datos de ventas de la tienda evaluada\n",
        "\n",
        "    return = ingresos: float\n",
        "        Suma de los precios de los productos vendidos en la tienda evaluada\n",
        "    '''\n",
        "    # Se crea una variable que contendrá la suma de precios.\n",
        "    ingresos = 0\n",
        "\n",
        "    # Se crea una lista que contendrá las claves que podrían contener el precio.\n",
        "    claves = ['precio','Precio']\n",
        "\n",
        "    # Se itera en la lista \"datos\".\n",
        "    for i,diccionario in enumerate(datos):\n",
        "\n",
        "        # Se prueba todas las claves válidas.\n",
        "        for clave in claves:\n",
        "\n",
        "            # Se verifica la condición de que alguna de las claves válidas sea clave en el diccionario.\n",
        "            if clave in diccionario:\n",
        "                \n",
        "                # Si alguna de las palabras es clave en el diccionario, se intenta convertir su valor a decimal.\n",
        "                try:\n",
        "                    ingresos += float(diccionario[clave])\n",
        "\n",
        "                # Si el valor no se puede convertir en un decimal, se produce un ValueError que se maneja en except.\n",
        "                except ValueError:\n",
        "                \n",
        "                    # Se ignorar el valor que no se puede convertir en un decimal.\n",
        "                    continue\n",
        "\n",
        "                #Salir del bucle for si encontró una clave válida (condición = TRUE), sin importar que haya sido posible o no convertir su valor en decimal\n",
        "                break\n",
        "\n",
        "        # Al agotarse las claves válidas, sin que ninguna haya cumplido la condición de encontrarse en el diccionario (condición = FALSE), se devuelve un KeyError.\n",
        "        else:\n",
        "            raise KeyError(f'No se encuentra ninguna de estas palabras en el diccionario n° {i+1}: {claves}')\n",
        "\n",
        "    # Retornamos la suma de los precios\n",
        "    return ingresos\n",
        "\n",
        "# Creamos una lista vacía que almacenará los ingresos calculados de cada tienda.\n",
        "ingreso_total = []\n",
        "\n",
        "# Aplicamos la función calcular_ingresos a las listas de diccionarios ya creadas con un ciclo for.\n",
        "for i,datos in enumerate(tiendas_py):\n",
        "    ingresos_tienda = calcular_ingresos(datos)\n",
        "\n",
        "    # Añadimos el ingreso de la tienda a la lista ingresos_total\n",
        "    ingreso_total.append(ingresos_tienda)\n",
        "\n",
        "    # Imprimimos un mensaje con los resultados por tienda.\n",
        "    print(f'Los ingresos de la tienda {i+1} son: ${ingresos_tienda:.2f}')\n",
        "\n",
        "# Se muestra la suma los valores de la lista ingreso total.\n",
        "print(f'Los ingresos totales son ${sum(ingreso_total):.2f}')"
      ]
    },
    {
      "cell_type": "markdown",
      "metadata": {},
      "source": [
        "### Métrica 2: Ventas por categoría\n",
        "Para el cálculo de la métrica 2 se emplearán las funciones y métodos de Pandas para operar Dataframes. Las ventas se definen como dinero percibido (ingresos) y que espera recibir a futuro (cuotas). Es decir, las ventas son la **multiplicación de los valores correspondientes a las columnas Precio y Cantidad de cuotas**."
      ]
    },
    {
      "cell_type": "code",
      "execution_count": 41,
      "metadata": {
        "id": "KDyr8E71V3m-"
      },
      "outputs": [
        {
          "name": "stdout",
          "output_type": "stream",
          "text": [
            "\n",
            "Ventas por categorías en la Tienda 1\n",
            "Artículos para el hogar: $38316800.00\n",
            "Deportes y diversión: $126883700.00\n",
            "Electrodomésticos: $1032375600.00\n",
            "Electrónicos: $1290390700.00\n",
            "Instrumentos musicales: $276990500.00\n",
            "Juguetes: $49062800.00\n",
            "Libros: $25769400.00\n",
            "Muebles: $582928200.00\n",
            "\n",
            "Ventas por categorías en la Tienda 2\n",
            "Artículos para el hogar: $42739700.00\n",
            "Deportes y diversión: $81660600.00\n",
            "Electrodomésticos: $1026226300.00\n",
            "Electrónicos: $1286643600.00\n",
            "Instrumentos musicales: $294448700.00\n",
            "Juguetes: $46721200.00\n",
            "Libros: $31417000.00\n",
            "Muebles: $527332100.00\n",
            "\n",
            "Ventas por categorías en la Tienda 3\n",
            "Artículos para el hogar: $44724600.00\n",
            "Deportes y diversión: $123399200.00\n",
            "Electrodomésticos: $1081380800.00\n",
            "Electrónicos: $1101334500.00\n",
            "Instrumentos musicales: $250336000.00\n",
            "Juguetes: $61190400.00\n",
            "Libros: $26358900.00\n",
            "Muebles: $555092500.00\n",
            "\n",
            "Ventas por categorías en la Tienda 4\n",
            "Artículos para el hogar: $44579300.00\n",
            "Deportes y diversión: $100062000.00\n",
            "Electrodomésticos: $879089600.00\n",
            "Electrónicos: $1211446500.00\n",
            "Instrumentos musicales: $222837200.00\n",
            "Juguetes: $54641200.00\n",
            "Libros: $29543400.00\n",
            "Muebles: $556628000.00\n",
            "Las ventas totales son $13102551000.00\n"
          ]
        }
      ],
      "source": [
        "# Convertimos los valores de \"Precio\" y \"Cantidad de cuotas\" a números.\n",
        "tiendas_pd_unificado[\"Precio\"] = tiendas_pd_unificado[\"Precio\"].astype(float) #El método astype permite convertir los valores de toda una serie en cierto tipo de datos.\n",
        "tiendas_pd_unificado[\"Cantidad de cuotas\"] = tiendas_pd_unificado[\"Cantidad de cuotas\"].astype(int)\n",
        "\n",
        "# Calculamos el campo \"Ventas\" multiplicando las columnas \"Precio\" y \"Cantidad de cuotas\" del dataframe unificado.\n",
        "tiendas_pd_unificado[\"Ventas\"] = tiendas_pd_unificado[\"Precio\"] * tiendas_pd_unificado[\"Cantidad de cuotas\"]\n",
        "\n",
        "# Reducimos el tamaño del dataframe agrupando las ventas según tienda y categoría, sumando los valores del campo \"Ventas\".\n",
        "tiendas_pd_ventas = tiendas_pd_unificado.groupby([\"Tienda\",\"Categoría del Producto\"])[\"Ventas\"].sum().reset_index() # Con reset_index(), los índices actuales (campos bajo los que estamos agrupando los datos, Tienda y Categoría) se convierten en una serie de pandas (columna) y un nuevo índice se añade.\n",
        "\n",
        "# Definimos una función que genere mensajes con las ventas por categoría en cada tienda.\n",
        "def imprimir_ventas(tienda: str=None): # No establecer un valor por defecto para el parámetro evita efectos secundarios si se modifica al llamar múltiple veces la función.\n",
        "    '''Función que imprime texto con las ventas de cada tienda\n",
        "\n",
        "    tienda: str, default None\n",
        "        Es el nombre de la tienda evaluada\n",
        "    '''\n",
        "    # Filtramos las filas del dataframe correspondiente a la tienda pasada como argumento de la función.\n",
        "    ventas_tienda = tiendas_pd_ventas[tiendas_pd_ventas[\"Tienda\"]==tienda]\n",
        "        # tiendas_pd_ventas['Tienda'] == tienda devuelve una serie booleana (True o False).\n",
        "        # tiendas_pd_ventas[...] filtra solo las filas donde esa comparación sea True.\n",
        "\n",
        "    # Imprimimos el nombre de la tienda a la que corresponden los datos\n",
        "    print(f\"\\nVentas por categorías en la {tienda}\")\n",
        "    # Iteramos en las filas del dataframe tienda_pd para imprimir las ventas por categoría.\n",
        "    for __,serie in ventas_tienda.iterrows(): # La serie contiene los datos de cada fila, y se comporta como un diccionario. El guión bajo _ es una convención en Python que significa: \"no voy a usar esta variable\".\n",
        "        print(f'{serie[\"Categoría del Producto\"]}: ${serie[\"Ventas\"]:.2f}')\n",
        "\n",
        "# Creamos una lista con los valores únicos de la columna \"Tienda\" del dataframe unificado\n",
        "nombres_tiendas = tiendas_pd_unificado[\"Tienda\"].unique()\n",
        "\n",
        "# Ejecutamos la función calcular_ventas tantas veces como nombres de tiendas exista.\n",
        "for tienda in nombres_tiendas:\n",
        "    imprimir_ventas(tienda)\n",
        "\n",
        "# Calculamos e imprimimos un mensaje con las ventas totales de las tiendas\n",
        "ventas_totales = tiendas_pd_ventas[\"Ventas\"].sum()\n",
        "print(f\"Las ventas totales son ${ventas_totales:.2f}\")"
      ]
    },
    {
      "cell_type": "markdown",
      "metadata": {},
      "source": [
        "### Métrica 3: Valoración media por tienda\n",
        "Para el cálculo de la métrica 3 se emplearán las funciones nativas de Python. La valoración media se define como el **promedio de los valores asociados a la clave \"Calificación\"** en las listas de diccionario."
      ]
    },
    {
      "cell_type": "code",
      "execution_count": 6,
      "metadata": {},
      "outputs": [
        {
          "name": "stdout",
          "output_type": "stream",
          "text": [
            "Valoración  media tienda N°1: 3.98\n",
            "Valoración  media tienda N°2: 4.04\n",
            "Valoración  media tienda N°3: 4.05\n",
            "Valoración  media tienda N°4: 4.00\n",
            "Valoración media global: 4.01\n"
          ]
        }
      ],
      "source": [
        "# Definimos la función para calcular el promedio de los valores asociados a la claves Calificación.\n",
        "def calcular_valoracion_media(datos: list = None) -> float:\n",
        "    '''Función para calcular el promedio de las calificaciones recibida por una tienda\n",
        "    \n",
        "    datos: list, default None\n",
        "        Es la lista de diccionarios que contiene los datos de ventas de una tienda\n",
        "    \n",
        "    return = valoracion_media: float\n",
        "        La función devuelve la valoración media como un número decimal\n",
        "    '''\n",
        "    # Declaramos las variables que contendrán la suma de las calificaciones y cantidad de filas procesadas.\n",
        "    calificaciones = 0 \n",
        "    filas_validas = 0 \n",
        "\n",
        "    # Listamos las claves que podrían contener el valor de las calificaciones.\n",
        "    claves_validas = [\"Calificación\", \"calificación\", \"Calificacion\", \"calificacion\"]\n",
        "\n",
        "    # Iteramos sobre las filas de datos.\n",
        "    for indice, diccionario in enumerate(datos):\n",
        "\n",
        "        # Probamos todas las claves validas.\n",
        "        for clave in claves_validas:\n",
        "\n",
        "            # Verificamos si cumple la condición de estar en el diccionario.\n",
        "            if clave in diccionario:\n",
        "\n",
        "                # Si la clave se encuentra en el diccionario, intentamos convertir el valor en un decimal.\n",
        "                try:\n",
        "                    calificacion = float(diccionario[clave])\n",
        "\n",
        "                    # Sumamos la calificación a la variable calificaciones.\n",
        "                    calificaciones += calificacion\n",
        "\n",
        "                    # Aumentamos la variable filas_validas en 1.\n",
        "                    filas_validas += 1\n",
        "                \n",
        "                # Si no se pudo convertir el valor en un decimal, ignoramos el error de tipo ValueError.\n",
        "                except ValueError:\n",
        "\n",
        "                    continue\n",
        "                \n",
        "                # Se haya o no convertido el valor en un decimal, salimos del bucle si se encontró una clave válida en el diccionario.\n",
        "                break\n",
        "\n",
        "        # Si no se encontró ninguna de las claves válidas en el diccionario (CONDICIÓN = FALSE), mostrar un error de tipo KeyError.\n",
        "        else:\n",
        "            raise KeyError(f'No se encuentra ninguna de estas palabras en el diccionario n° {indice+1}: {claves_validas}')\n",
        "    \n",
        "    # Calcular la valoración media de la tienda.\n",
        "    valoracion_media = calificaciones/filas_validas\n",
        "\n",
        "    # Devolver la valoración media calculada.\n",
        "    return valoracion_media\n",
        "\n",
        "# Creamos una variable que contendrá las valoraciones medias de las tiendas.\n",
        "valoraciones_tiendas = []\n",
        "\n",
        "# Ejecutar la función calcular_valoracion_media para cada una de las tiendas, y mostrar su valoración media en un mensaje.\n",
        "for i,datos in enumerate(tiendas_py):\n",
        "    valoracion_tienda = calcular_valoracion_media(datos)\n",
        "    valoraciones_tiendas.append(valoracion_tienda)\n",
        "    print(f'Valoración  media tienda N°{i+1}: {valoracion_tienda:.2f}')\n",
        "\n",
        "# Promediamos las valoraciones medias y mostramo en un mensaje la valoración media global\n",
        "valoracion_media_global = sum(valoraciones_tiendas)/len(valoraciones_tiendas)\n",
        "print(f'Valoración media global: {valoracion_media_global:.2f}')"
      ]
    },
    {
      "cell_type": "markdown",
      "metadata": {},
      "source": [
        "### Métrica 4: Productos más vendidos y menos vendidos\n",
        "Para el cálculo de la métrica 4 se emplearán las funciones y métodos de Pandas para operar Dataframes. Se mostrarán la cantidad e ingresos de **los 3 productos más vendidos y los 3 menos vendidos** de cada tienda. Los ingresos son la suma de los valores de la serie (columna) Precio."
      ]
    },
    {
      "cell_type": "code",
      "execution_count": 10,
      "metadata": {},
      "outputs": [
        {
          "name": "stdout",
          "output_type": "stream",
          "text": [
            "\n",
            "Tienda 1 - Top 3 Productos más vendidos\n",
            "Armario: Cantidad 60 - Ingresos $29462300.0\n",
            "TV LED UHD 4K: Cantidad 60 - Ingresos $142150200.0\n",
            "Microondas: Cantidad 60 - Ingresos $34761500.0\n",
            "\n",
            "Tienda 1 - Top 3 Productos menos vendidos\n",
            "Armario: Cantidad 60 - Ingresos $29462300.0\n",
            "Microondas: Cantidad 60 - Ingresos $34761500.0\n",
            "TV LED UHD 4K: Cantidad 60 - Ingresos $142150200.0\n",
            "\n",
            "Tienda 2 - Top 3 Productos más vendidos\n",
            "Iniciando en programación: Cantidad 65 - Ingresos $3127800.0\n",
            "Microondas: Cantidad 62 - Ingresos $36192000.0\n",
            "Batería: Cantidad 61 - Ingresos $46175300.0\n",
            "\n",
            "Tienda 2 - Top 3 Productos menos vendidos\n",
            "Batería: Cantidad 61 - Ingresos $46175300.0\n",
            "Microondas: Cantidad 62 - Ingresos $36192000.0\n",
            "Iniciando en programación: Cantidad 65 - Ingresos $3127800.0\n",
            "\n",
            "Tienda 3 - Top 3 Productos más vendidos\n",
            "Kit de bancas: Cantidad 57 - Ingresos $16699800.0\n",
            "Mesa de comedor: Cantidad 56 - Ingresos $14326100.0\n",
            "Cama king: Cantidad 56 - Ingresos $38834700.0\n",
            "\n",
            "Tienda 3 - Top 3 Productos menos vendidos\n",
            "Cama king: Cantidad 56 - Ingresos $38834700.0\n",
            "Mesa de comedor: Cantidad 56 - Ingresos $14326100.0\n",
            "Kit de bancas: Cantidad 57 - Ingresos $16699800.0\n",
            "\n",
            "Tienda 4 - Top 3 Productos más vendidos\n",
            "Cama box: Cantidad 62 - Ingresos $32946300.0\n",
            "Cubertería: Cantidad 59 - Ingresos $2649300.0\n",
            "Cama king: Cantidad 56 - Ingresos $37555400.0\n",
            "\n",
            "Tienda 4 - Top 3 Productos menos vendidos\n",
            "Dashboards con Power BI: Cantidad 56 - Ingresos $1990600.0\n",
            "Cubertería: Cantidad 59 - Ingresos $2649300.0\n",
            "Cama box: Cantidad 62 - Ingresos $32946300.0\n"
          ]
        }
      ],
      "source": [
        "# Convertimos los valores de la serie Precio del dataframe unificado en decimales, y renombramos la columna como Ingreso.\n",
        "tiendas_pd_unificado[\"Ingreso\"] = tiendas_pd_unificado[\"Precio\"].astype(float) # Paso opcional pues ya se realizó para calcular la métrica 2.\n",
        "\n",
        "# Agrupamos los ingresos según los productos vendidos en cada tienda.\n",
        "tiendas_pd_productosvendidos = tiendas_pd_unificado.groupby([\"Tienda\", \"Producto\"])[\"Ingreso\"].agg(Ingreso=\"sum\",CantidadVendida=\"count\").reset_index()\n",
        "    # Con el método .agg (de \"aggregate\") se puede calcular más de una métrica. En este caso se calculó el ingreso y la cantidad vendida.\n",
        "    # Con reset_index() se convierten los índices originales del dataframe agrupado(\"Tienda\", \"Producto\") en columnas, y se crea un nuevo índice numerado.\n",
        "\n",
        "# Definimos una función que imprima las ingresos correspondientes a los 3 productos más y menos vendidos.\n",
        "def imprimir_productosvendidos(tienda: str = None):\n",
        "    '''Función para imprimir mensajes con los 3 productos más y menos vendidos en la tienda\n",
        "\n",
        "    tienda: str, default None\n",
        "        Es el nombre de la tienda que se consultará\n",
        "    '''\n",
        "\n",
        "    # Filtramos el dataframe según el nombre de la tienda.\n",
        "    tienda_pd = tiendas_pd_productosvendidos[tiendas_pd_productosvendidos[\"Tienda\"]==tienda]\n",
        "\n",
        "    # Se crean dos variables que almacenarán el df con los 3 productos más vendidos y el df los 3 productos menos vendidos.\n",
        "    tienda_pd_productosmasvendidos = tienda_pd.sort_values(by='CantidadVendida', ascending=False).head(3)\n",
        "    tienda_pd_productosmenosvendidos = tienda_pd.sort_values(by='CantidadVendida', ascending=True).tail(3)\n",
        "\n",
        "    # Se recorren cada fila del df con iterrow para imprimir la cantidad y el ingreso de los 3 producto más vendidos.\n",
        "    print(f\"\\n{tienda} - Top 3 Productos más vendidos\")\n",
        "\n",
        "    for __,serie in tienda_pd_productosmasvendidos.iterrows(): # La serie contiene los datos de cada fila, y se comporta como un diccionario. El guión bajo _ es una convención en Python que significa: \"no voy a usar esta variable\".\n",
        "        print(f'{serie[\"Producto\"]}: Cantidad {serie[\"CantidadVendida\"]} - Ingresos ${serie[\"Ingreso\"]}')\n",
        "\n",
        "    # Se recorren cada fila del df con iterrow para imprimir la cantidad y el ingreso de los 3 producto menos vendidos.\n",
        "    print(f\"\\n{tienda} - Top 3 Productos menos vendidos\")\n",
        "\n",
        "    for __,serie in tienda_pd_productosmenosvendidos.iterrows():\n",
        "        print(f'{serie[\"Producto\"]}: Cantidad {serie[\"CantidadVendida\"]} - Ingresos ${serie[\"Ingreso\"]}')\n",
        "\n",
        "# Creamos una lista con los nombres de las tiendas.\n",
        "nombre_tiendas = tiendas_pd_unificado[\"Tienda\"].unique() # Paso opcional pues ya se realizó para calcular la métrica 2.\n",
        "\n",
        "# Ejecutamos la función para todas las tiendas.\n",
        "for tienda in nombre_tiendas:\n",
        "    imprimir_productosvendidos(tienda)"
      ]
    },
    {
      "cell_type": "code",
      "execution_count": 14,
      "metadata": {},
      "outputs": [
        {
          "data": {
            "text/html": [
              "<div>\n",
              "<style scoped>\n",
              "    .dataframe tbody tr th:only-of-type {\n",
              "        vertical-align: middle;\n",
              "    }\n",
              "\n",
              "    .dataframe tbody tr th {\n",
              "        vertical-align: top;\n",
              "    }\n",
              "\n",
              "    .dataframe thead th {\n",
              "        text-align: right;\n",
              "    }\n",
              "</style>\n",
              "<table border=\"1\" class=\"dataframe\">\n",
              "  <thead>\n",
              "    <tr style=\"text-align: right;\">\n",
              "      <th></th>\n",
              "      <th>Lugar de Compra</th>\n",
              "      <th>lat</th>\n",
              "      <th>lon</th>\n",
              "      <th>Precio</th>\n",
              "    </tr>\n",
              "  </thead>\n",
              "  <tbody>\n",
              "    <tr>\n",
              "      <th>0</th>\n",
              "      <td>Armenia</td>\n",
              "      <td>4.53389</td>\n",
              "      <td>-75.68111</td>\n",
              "      <td>28</td>\n",
              "    </tr>\n",
              "    <tr>\n",
              "      <th>1</th>\n",
              "      <td>Barranquilla</td>\n",
              "      <td>10.96854</td>\n",
              "      <td>-74.78132</td>\n",
              "      <td>310</td>\n",
              "    </tr>\n",
              "    <tr>\n",
              "      <th>2</th>\n",
              "      <td>Bogotá</td>\n",
              "      <td>4.60971</td>\n",
              "      <td>-74.08175</td>\n",
              "      <td>3943</td>\n",
              "    </tr>\n",
              "    <tr>\n",
              "      <th>3</th>\n",
              "      <td>Bucaramanga</td>\n",
              "      <td>7.12539</td>\n",
              "      <td>-73.11980</td>\n",
              "      <td>181</td>\n",
              "    </tr>\n",
              "    <tr>\n",
              "      <th>4</th>\n",
              "      <td>Cali</td>\n",
              "      <td>3.43722</td>\n",
              "      <td>-76.52250</td>\n",
              "      <td>1007</td>\n",
              "    </tr>\n",
              "    <tr>\n",
              "      <th>5</th>\n",
              "      <td>Cartagena</td>\n",
              "      <td>10.39972</td>\n",
              "      <td>-75.51444</td>\n",
              "      <td>242</td>\n",
              "    </tr>\n",
              "    <tr>\n",
              "      <th>6</th>\n",
              "      <td>Cúcuta</td>\n",
              "      <td>7.89391</td>\n",
              "      <td>-72.50782</td>\n",
              "      <td>186</td>\n",
              "    </tr>\n",
              "    <tr>\n",
              "      <th>7</th>\n",
              "      <td>Inírida</td>\n",
              "      <td>3.86530</td>\n",
              "      <td>-67.92390</td>\n",
              "      <td>14</td>\n",
              "    </tr>\n",
              "    <tr>\n",
              "      <th>8</th>\n",
              "      <td>Leticia</td>\n",
              "      <td>-4.21528</td>\n",
              "      <td>-69.94056</td>\n",
              "      <td>142</td>\n",
              "    </tr>\n",
              "    <tr>\n",
              "      <th>9</th>\n",
              "      <td>Manizales</td>\n",
              "      <td>5.06889</td>\n",
              "      <td>-75.51738</td>\n",
              "      <td>41</td>\n",
              "    </tr>\n",
              "    <tr>\n",
              "      <th>10</th>\n",
              "      <td>Medellín</td>\n",
              "      <td>6.25184</td>\n",
              "      <td>-75.56359</td>\n",
              "      <td>2314</td>\n",
              "    </tr>\n",
              "    <tr>\n",
              "      <th>11</th>\n",
              "      <td>Neiva</td>\n",
              "      <td>2.92730</td>\n",
              "      <td>-75.28189</td>\n",
              "      <td>40</td>\n",
              "    </tr>\n",
              "    <tr>\n",
              "      <th>12</th>\n",
              "      <td>Pasto</td>\n",
              "      <td>1.21361</td>\n",
              "      <td>-77.28111</td>\n",
              "      <td>94</td>\n",
              "    </tr>\n",
              "    <tr>\n",
              "      <th>13</th>\n",
              "      <td>Pereira</td>\n",
              "      <td>4.81333</td>\n",
              "      <td>-75.69611</td>\n",
              "      <td>517</td>\n",
              "    </tr>\n",
              "    <tr>\n",
              "      <th>14</th>\n",
              "      <td>Riohacha</td>\n",
              "      <td>11.54444</td>\n",
              "      <td>-72.90722</td>\n",
              "      <td>163</td>\n",
              "    </tr>\n",
              "    <tr>\n",
              "      <th>15</th>\n",
              "      <td>Santa Marta</td>\n",
              "      <td>11.24079</td>\n",
              "      <td>-74.19904</td>\n",
              "      <td>151</td>\n",
              "    </tr>\n",
              "    <tr>\n",
              "      <th>16</th>\n",
              "      <td>Soacha</td>\n",
              "      <td>4.57937</td>\n",
              "      <td>-74.21682</td>\n",
              "      <td>19</td>\n",
              "    </tr>\n",
              "    <tr>\n",
              "      <th>17</th>\n",
              "      <td>Valledupar</td>\n",
              "      <td>10.46314</td>\n",
              "      <td>-73.25322</td>\n",
              "      <td>14</td>\n",
              "    </tr>\n",
              "    <tr>\n",
              "      <th>18</th>\n",
              "      <td>Villavicencio</td>\n",
              "      <td>4.14200</td>\n",
              "      <td>-73.62664</td>\n",
              "      <td>29</td>\n",
              "    </tr>\n",
              "  </tbody>\n",
              "</table>\n",
              "</div>"
            ],
            "text/plain": [
              "   Lugar de Compra       lat       lon  Precio\n",
              "0          Armenia   4.53389 -75.68111      28\n",
              "1     Barranquilla  10.96854 -74.78132     310\n",
              "2           Bogotá   4.60971 -74.08175    3943\n",
              "3      Bucaramanga   7.12539 -73.11980     181\n",
              "4             Cali   3.43722 -76.52250    1007\n",
              "5        Cartagena  10.39972 -75.51444     242\n",
              "6           Cúcuta   7.89391 -72.50782     186\n",
              "7          Inírida   3.86530 -67.92390      14\n",
              "8          Leticia  -4.21528 -69.94056     142\n",
              "9        Manizales   5.06889 -75.51738      41\n",
              "10        Medellín   6.25184 -75.56359    2314\n",
              "11           Neiva   2.92730 -75.28189      40\n",
              "12           Pasto   1.21361 -77.28111      94\n",
              "13         Pereira   4.81333 -75.69611     517\n",
              "14        Riohacha  11.54444 -72.90722     163\n",
              "15     Santa Marta  11.24079 -74.19904     151\n",
              "16          Soacha   4.57937 -74.21682      19\n",
              "17      Valledupar  10.46314 -73.25322      14\n",
              "18   Villavicencio   4.14200 -73.62664      29"
            ]
          },
          "execution_count": 14,
          "metadata": {},
          "output_type": "execute_result"
        }
      ],
      "source": [
        "tiendas_pd_ubicaciones = tiendas_pd_unificado.groupby([\"Lugar de Compra\", \"lat\", \"lon\"])[\"Precio\"].count().reset_index()\n",
        "tiendas_pd_ubicaciones.sort_values(by=\"Lugar de Compra\", ascending=True)"
      ]
    },
    {
      "cell_type": "markdown",
      "metadata": {},
      "source": [
        "### Métrica 5: Valor del envío promedio por tienda\n",
        "Para el cálculo de la métrica 5 se emplearán las funciones nativas de Python. El valor del envío promedio se define como el **promedio de los valores asociados a la clave \"Costo de envío\"** en las listas de diccionario."
      ]
    },
    {
      "cell_type": "code",
      "execution_count": 15,
      "metadata": {},
      "outputs": [
        {
          "name": "stdout",
          "output_type": "stream",
          "text": [
            "Costo envío promedio tienda N°1: $26018.61\n",
            "Costo envío promedio tienda N°2: $25216.24\n",
            "Costo envío promedio tienda N°3: $24805.68\n",
            "Costo envío promedio tienda N°4: $23459.46\n",
            "Costo envío promedio global: $24875.00\n"
          ]
        }
      ],
      "source": [
        "# Definimos la función para calcular el promedio de los valores asociados a la claves Costo de envío.\n",
        "def calcular_costoenvio_promedio(datos: list = None) -> float:\n",
        "    '''Función para calcular el promedio de los costos de envío incurridos por una tienda\n",
        "    \n",
        "    datos: list, default None\n",
        "        Es la lista de diccionarios que contiene los datos de ventas de una tienda\n",
        "    \n",
        "    return = costoenvio_promedio: float\n",
        "        La función devuelve el promedio del costo de envio como un número decimal\n",
        "    '''\n",
        "    # Declaramos las variables que contendrán la suma de los costos de envío y cantidad de filas procesadas.\n",
        "    costos = 0 \n",
        "    filas_validas = 0 \n",
        "\n",
        "    # Listamos las claves que podrían contener el valor de los costos de envío.\n",
        "    claves_validas = [\"Costo de envío\", \"costo de envío\", \"Costo de envio\", \"costo de envio\"]\n",
        "\n",
        "    # Iteramos sobre las filas de datos.\n",
        "    for indice, diccionario in enumerate(datos):\n",
        "\n",
        "        # Probamos todas las claves validas.\n",
        "        for clave in claves_validas:\n",
        "\n",
        "            # Verificamos si cumple la condición de estar en el diccionario.\n",
        "            if clave in diccionario:\n",
        "\n",
        "                # Si la clave se encuentra en el diccionario, intentamos convertir el valor en un decimal.\n",
        "                try:\n",
        "                    costo = float(diccionario[clave])\n",
        "\n",
        "                    # Sumamos el costo a la variable costos.\n",
        "                    costos += costo\n",
        "\n",
        "                    # Aumentamos la variable filas_validas en 1.\n",
        "                    filas_validas += 1\n",
        "                \n",
        "                # Si no se pudo convertir el valor en un decimal, ignoramos el error de tipo ValueError.\n",
        "                except ValueError:\n",
        "\n",
        "                    continue\n",
        "                \n",
        "                # Se haya o no convertido el valor en un decimal, salimos del bucle si se encontró una clave válida en el diccionario.\n",
        "                break\n",
        "\n",
        "        # Si no se encontró ninguna de las claves válidas en el diccionario (CONDICIÓN = FALSE), mostrar un error de tipo KeyError.\n",
        "        else:\n",
        "            raise KeyError(f'No se encuentra ninguna de estas palabras en el diccionario n° {indice+1}: {claves_validas}')\n",
        "    \n",
        "    # Calcular el costo de envío promedio de la tienda.\n",
        "    costoenvio_promedio = costos/filas_validas\n",
        "\n",
        "    # Devolver el costo de envío promedio calculado.\n",
        "    return costoenvio_promedio\n",
        "\n",
        "# Creamos una variable que contendrá el costo de envío promedio de las tiendas.\n",
        "costos_tiendas = []\n",
        "\n",
        "# Ejecutar la función calcular_costoenvio_promedio para cada una de las tiendas, y mostrar su costo promedio en un mensaje.\n",
        "for i,datos in enumerate(tiendas_py):\n",
        "    costo_tienda = calcular_costoenvio_promedio(datos)\n",
        "    costos_tiendas.append(costo_tienda)\n",
        "    print(f'Costo envío promedio tienda N°{i+1}: ${costo_tienda:.2f}')\n",
        "\n",
        "# Promediamos los costos de envio y mostramos en un mensaje el costo promedio global\n",
        "costo_promedio_global = sum(costos_tiendas)/len(costos_tiendas)\n",
        "print(f'Costo envío promedio global: ${costo_promedio_global:.2f}')"
      ]
    },
    {
      "cell_type": "markdown",
      "metadata": {
        "id": "2V_vcAPzWZmR"
      },
      "source": [
        "## 3. Gráficos de desempeño financiero"
      ]
    },
    {
      "cell_type": "markdown",
      "metadata": {},
      "source": [
        "### Gráfico 1: Distribución de ingresos según tienda\n",
        "Gráfico de pie con el porcentaje de ingresos generado por cada tienda del total. En el sector retail, **la disponibilidad de efectivo es vital** para pagar a los proveedores en el plazo otorgado o tener descuentos por pagar al instante. Con lo cual, las tiendas que generan una mayor fracción de los ingresos deben permanecer abiertas."
      ]
    },
    {
      "cell_type": "code",
      "execution_count": 97,
      "metadata": {
        "id": "A34YupIuYhfF"
      },
      "outputs": [
        {
          "data": {
            "image/png": "[encoded data removed]",
            "text/plain": [
              "<Figure size 500x270 with 1 Axes>"
            ]
          },
          "metadata": {},
          "output_type": "display_data"
        }
      ],
      "source": [
        "# Se agrupan los ingresos según la tienda.\n",
        "tiendas_pd_ingresos = tiendas_pd_unificado.groupby(\"Tienda\")[\"Precio\"].sum().reset_index()\n",
        "tiendas_pd_ingresos\n",
        "\n",
        "# Se especifican los datos numéricos que usará el gráfico de pie para definir la amplitud del segmento.\n",
        "x = tiendas_pd_ingresos[\"Precio\"]\n",
        "\n",
        "# Asignamos un color a cada tienda mediante un mapa de colores categórico. Para ello, asociamos un número a cada categoría pues maplotlib espera un número para asignarle un color.\n",
        "nombre_tiendas = tiendas_pd_ingresos[\"Tienda\"] # Creamos una lista con los nombres de las tiendas.\n",
        "diccionario_tiendas = {categoria: indice for indice, categoria in enumerate(nombre_tiendas)} # Se crea el diccionario \"mapa_colores\" que asigna un número a cada categoría (nombre de tienda).\n",
        "color_tiendas = [plt.cm.tab10(diccionario_tiendas[tienda]) for tienda in nombre_tiendas] # Se genera un mapa de colores llamado \"tab10\", un color para cada tienda.\n",
        "\n",
        "# Se crea una figura y un plano para nuestro gráfico con maplotlib.\n",
        "fig, ax = plt.subplots(figsize=(5, 2.7), layout=\"constrained\")\n",
        "    # Se crea una figura de 5 pulgadas de ancho y 2.7 pulgadas de alto.\n",
        "    # Se establece un contorno limitado (constrained), es decir los elementos del gráficos se ajustarán a las dimensiones de la figura.\n",
        "\n",
        "# Se genera un gráfico con el método pie.\n",
        "ax.pie(x, colors = color_tiendas, autopct=\"%1.1f%%\", wedgeprops={\"linewidth\": 1, \"edgecolor\": \"white\"})\n",
        "    # Se creará un gráfico cuyas categorías con definidas por \"X\", y los colores de los segmentos por \"colores\".\n",
        "    # Las secciones tendrán como etiqueta el porcentaje que representan del total y su formato será un número con un decimal.\n",
        "    # Las secciones del gráfico tendrán bordes con un ancho de 1 pixel y serán de color blanco.\n",
        "\n",
        "# Añadimos elementos gráficos como: Título y leyenda\n",
        "ax.set_title(\"Participación de cada Tienda en el Total de Ingresos\")\n",
        "\n",
        "# Se crea una leyenda de forma manual\n",
        "leyenda = [Line2D([0], [0], linewidth = 0, marker = \"o\", color=\"white\", label = tienda, \n",
        "                  markerfacecolor=plt.cm.tab10(diccionario_tiendas[tienda]), markersize=8) for tienda in nombre_tiendas]\n",
        "    # Se traza una línea falsa, con un solo punto. Su grosor es cero, y color es blanco.\n",
        "    # El punto tiene el marcador \"o\". La etiqueta del punto es el nombre de la tienda.\n",
        "    # El color del marcador se define según el mapa de colores categórico llamado \"tab10\". El tamaño del marcador es 8 pixeles.\n",
        "\n",
        "ax.legend(loc=\"lower left\", bbox_to_anchor=(1,0.25) , handles=leyenda, title=\"Tiendas\")\n",
        "    # La esquina inferior izquierda de la leyenda se ubica en la posición final del eje x (1) y en una posición intermedia del eje y (0.25).\n",
        "    # La leyenda obtiene sus valores de la lista \"leyenda\", y se le asigna el título de \"Tiendas\".\n",
        "\n",
        "# Mostramos el gráfico\n",
        "plt.show()\n"
      ]
    },
    {
      "cell_type": "markdown",
      "metadata": {},
      "source": [
        "### Gráfico 2: Porcentaje de ingresos respecto a las ventas según tienda\n",
        "Gráfico de barras apiladas que muestra el porcentaje de ingresos respecto a las ventas generadas por cada tienda. En el sector retail, un mayor porcentaje de ingresos respecto a las ventas significa que la tienda está generando efectivo porque está cobrando más rapido a sus clientes lo que **disminuye el riesgo de incrobabilidad**."
      ]
    },
    {
      "cell_type": "code",
      "execution_count": 44,
      "metadata": {},
      "outputs": [
        {
          "data": {
            "image/png": "[encoded data removed]",
            "text/plain": [
              "<Figure size 600x300 with 1 Axes>"
            ]
          },
          "metadata": {},
          "output_type": "display_data"
        }
      ],
      "source": [
        "# Agrupar los datos, de manera que existan tres series en el dataframe: Tienda, % de ingresos respecto ventas, % de cuentas por cobras respecto ventas\n",
        "tiendas_pd_ingresos_cxc = tiendas_pd_unificado.groupby(\"Tienda\").agg(\n",
        "    Ingresos=pd.NamedAgg(column=\"Precio\", aggfunc=\"sum\"),\n",
        "    Ventas=pd.NamedAgg(column=\"Ventas\", aggfunc=\"sum\")).reset_index()\n",
        "\n",
        "tiendas_pd_ingresos_cxc[\"Ingresos sobre Ventas\"] = (tiendas_pd_ingresos_cxc[\"Ingresos\"]/tiendas_pd_ingresos_cxc[\"Ventas\"])*100\n",
        "\n",
        "tiendas_pd_ingresos_cxc[\"CuentasxCobrar sobre Ventas\"] = 100 - tiendas_pd_ingresos_cxc[\"Ingresos sobre Ventas\"]\n",
        "\n",
        "# Establecemos los datos que usaremos en el gráfico: Categorías del eje X, Valores del eje Y, y Categorías de la barra\n",
        "g2_categorias_eje_x = tiendas_pd_ingresos_cxc[\"Tienda\"] #Nombre de las tiendas\n",
        "g2_valores_eje_y = tiendas_pd_ingresos_cxc[[\"Ingresos sobre Ventas\",\"CuentasxCobrar sobre Ventas\"]] #Dataframe con las series \"Ingresos/Ventas\" \"CxC/Ventas\"\n",
        "\n",
        "g2_ubicacion_base_barras=[] # Lista que contiene la ubicación en el eje Y de la base de las barras.\n",
        "for i in range(0,len(g2_categorias_eje_x),1): # Mediante este ciclo for, se itera tantas veces como tiendas haya.\n",
        "    g2_ubicacion_base_barras.append(0) # En cada iteración, se añade cero a la lista \"ubicacion_base_barras\". Así, todas las barras empiezan donde Y es cero.\n",
        "\n",
        "# Se crea una figura y un plano para nuestro gráfico con maplotlib.\n",
        "fig, ax = plt.subplots(figsize=(6, 3), layout=\"constrained\")\n",
        "\n",
        "# Se itera sobre el nombre y contenido de las series del dataframe que contiene los valores mostrados en el eje Y.\n",
        "for nombre_serie, serie in g2_valores_eje_y.items():\n",
        "    contenedor_g2 = ax.bar(g2_categorias_eje_x, serie, width=0.6, label = nombre_serie, bottom=g2_ubicacion_base_barras) # Se configuran las barras del gráfico\n",
        "        # Se indican las categorías del eje X como los nombres de las tiendas.\n",
        "        # Se añaden como valores del eje Y al contenido de la \"serie\"  del dataframe \"valores_eje_y\".\n",
        "        # Se agrega como etiqueta de las barras al nombre de la serie.\n",
        "    g2_ubicacion_base_barras+= serie # Se apilan los valores de las series sobre la base (que es cero inicialmente).\n",
        "\n",
        "    ax.bar_label(contenedor_g2, fmt=\"{:.2f}%\", label_type=\"center\") # Se configuran las etiquetas en las barras.\n",
        "        # Se indica el contenedor con todas las barras.\n",
        "        # Se indica el formato de las etiquetas (dos decimales y con un signo de porcentaje).\n",
        "        # Se indica la ubicación de las etiquetas en las barras, ene ste caso al centro.\n",
        "\n",
        "ax.set(ylim=(0, 100), yticks=range(0, 101,25)) # El eje Y va de cero a cien. Y en su interior, los separadores se fijan cada 25 unidades.\n",
        "\n",
        "ax.set_title(\"Porcentaje de ingresos respecto a las ventas según Tienda\") # Se fija el título del gráfico.\n",
        "\n",
        "ax.legend(loc=\"upper left\", bbox_to_anchor=(0.25,-0.25))\n",
        "    # La esquina superior izquierda de la leyenda se ubica en una posición intermedia del eje x (0.25) y en una posición por debajo del eje y (-0.25).\n",
        "    \n",
        "# Se muestra el gráfico\n",
        "plt.show()"
      ]
    },
    {
      "cell_type": "markdown",
      "metadata": {},
      "source": [
        "### Gráfico 3: Resultado del ejercicio según tienda\n",
        "Gráfico de linea que muestra el resultado de restar los ingresos menos los costos de envío, para conocer las ganancias o pérdidas que tuvieron las tiendas evaluadas. Se debe examinar si las **tiendas con menos ganancias o pérdidas** deben su situación a malas relaciones con los clientes (calificación) o dificultades al cobrar sus ventas a crédito (% de ingresos respecto a las ventas).  "
      ]
    },
    {
      "cell_type": "code",
      "execution_count": 6,
      "metadata": {},
      "outputs": [
        {
          "data": {
            "text/plain": [
              "dtype('float64')"
            ]
          },
          "execution_count": 6,
          "metadata": {},
          "output_type": "execute_result"
        }
      ],
      "source": [
        "tiendas_pd_unificado[\"Precio\"].dtype"
      ]
    },
    {
      "cell_type": "code",
      "execution_count": 71,
      "metadata": {
        "id": "yZR6cOjXYSk1"
      },
      "outputs": [
        {
          "data": {
            "image/png": "[encoded data removed]",
            "text/plain": [
              "<Figure size 800x300 with 1 Axes>"
            ]
          },
          "metadata": {},
          "output_type": "display_data"
        }
      ],
      "source": [
        "# Generar el dataframe que contenga las series: Tienda y Resultado del ejercicio\n",
        "tiendas_pd_resultadoejercicio = tiendas_pd_unificado.groupby(\"Tienda\").agg(\n",
        "    Ingresos = pd.NamedAgg( column = \"Precio\", aggfunc = \"sum\"),\n",
        "    Costos = pd.NamedAgg( column = \"Costo de envío\", aggfunc = \"sum\")\n",
        ").reset_index()\n",
        "\n",
        "tiendas_pd_resultadoejercicio[\"Resultado del ejercicio\"] = tiendas_pd_resultadoejercicio[\"Ingresos\"] - tiendas_pd_resultadoejercicio[\"Costos\"]\n",
        "\n",
        "# Establecemos los datos que usaremos en el gráfico: Categorías del eje X, Valores del eje Y\n",
        "g3_categorias_eje_x = tiendas_pd_resultadoejercicio[\"Tienda\"]\n",
        "g3_valores_eje_y = tiendas_pd_resultadoejercicio[\"Resultado del ejercicio\"]\n",
        "\n",
        "# Establecemos los límites de las barras en el eje Y\n",
        "g3_limite_superior_eje_y = int(1.05 * g3_valores_eje_y.max()) # El límite máximo es 1.25 veces el resultado máximo.\n",
        "g3_limite_inferior_eje_y = int(0.9 * g3_valores_eje_y.min()) # El límite mínimo es 0.75 veces el resultado mínimo.\n",
        "separacion_eje_y = int((g3_limite_superior_eje_y - g3_limite_inferior_eje_y)/4)# Existirán 4 entre los marcadores.\n",
        "\n",
        "# Establecemos la serie de coordenadas en Y desde donde se graficarán las barras\n",
        "g3_ubicacion_base_barras=[] # Todas las barras parten desde la coordenada cero en el eje Y.\n",
        "for i in range(0,len(g3_categorias_eje_x),1):\n",
        "    g3_ubicacion_base_barras.append(0)\n",
        "\n",
        "\n",
        "# Se crea una figura y un plano para nuestro gráfico con maplotlib.\n",
        "fig, ax = plt.subplots(figsize=(8, 3), layout=\"constrained\")\n",
        "\n",
        "# Se agregan los elementos a nuestro plano con el método bar.\n",
        "contenedor_g3 = ax.bar(g3_categorias_eje_x, g3_valores_eje_y, width=0.8, bottom = g3_ubicacion_base_barras, color = \"#00A7B8\")\n",
        "\n",
        "# Se agregan, en el centro de las barras, las etiquetas con los montos de la serie \"Resultado del ejercicio\" en formato de número entero y separando los miles con comas. \n",
        "ax.bar_label(contenedor_g3, labels = [f'${int(valor):,}' for valor in g3_valores_eje_y], label_type=\"center\")\n",
        "\n",
        "# Se establecen los valores máximos y mínimos que se mostraran en el eje Y\n",
        "ax.set(ylim=(g3_limite_inferior_eje_y, g3_limite_superior_eje_y), yticks=range(g3_limite_inferior_eje_y, g3_limite_superior_eje_y+1,separacion_eje_y)) \n",
        "    # En gráficos como el de líneas, por estética, conviene limitar la ubicación de las categorías del eje X. En el siguiente ejemplo, se centran dejando un espacio de 0.5 px a sus costados, y con una separación de 1px entre cada categoría.\n",
        "    # xlim=(-0.5, 3.5), xticks=range(0, 4, 1)\n",
        "\n",
        "# Debido a que los números grandes se expresan orginalmente en notación cientifica, se usa funcformatter para personalizar el texto que se muestra en los marcadores del eje Y. \n",
        "ax.ticklabel_format(axis=\"y\",style=\"plain\") # Quitamos la notación científica en los valores del eje Y.\n",
        "formatter = FuncFormatter(lambda x,__: f\"{int(x):,}\") # Definimos una función lambda que a partir de valores de marcadores y su posición, los convierte en enteros con separación de miles por coma.\n",
        "ax.yaxis.set_major_formatter(formatter) # Convertimos los valores del eje Y en cadenas de texto según lo definido en la función formatter.\n",
        "\n",
        "# Se fija el título del eje y.\n",
        "ax.set_ylabel(\"Resultado del ejercicio ($)\")\n",
        "\n",
        "# Se fija el título del gráfico.\n",
        "ax.set_title(\"Resultado del ejercicio según Tienda\")\n",
        "\n",
        "# Se muestra el gráfico\n",
        "plt.show()"
      ]
    },
    {
      "cell_type": "markdown",
      "metadata": {
        "id": "Rq6tU_xSY3jk"
      },
      "source": [
        "## 4. Gráfico de imagen institucional\n"
      ]
    },
    {
      "cell_type": "markdown",
      "metadata": {},
      "source": [
        "### Gráfico 4: Distribución de la calificación recibida según tienda\n",
        "Gráfico de cajas y bigotes, que muestra la distribución de las calificaciones recibidas por los clientes en cada tienda. Una tienda con una baja calificación (mediana menor a 3) y la mayoría de calificaciones similares (cuartil superior e inferior cercano a la mediana) tiene una mala percepción y, en consecuencia, **problemas al fidelizar a sus clientes**."
      ]
    },
    {
      "cell_type": "code",
      "execution_count": null,
      "metadata": {
        "id": "bh3jjjJwY5MU"
      },
      "outputs": [],
      "source": []
    },
    {
      "cell_type": "markdown",
      "metadata": {
        "id": "DmNp1KPBZCm-"
      },
      "source": [
        "## 5. Gráfico de desempeño geográfico"
      ]
    },
    {
      "cell_type": "markdown",
      "metadata": {},
      "source": [
        "### Gráficos 5, 6, 7 y 8: Mapas de calor correspondiente a las ventas de cada tienda\n",
        "Gráficos de burbujas que muestran el tamaño y lugar de las ventas por cada tienda. \n",
        "El tamanaño de las burbujas es directamente proporcional a los montos de las ventas, e indican en qué lugares los clientes realizaron compras de mayor cuantía.\n",
        "\n",
        "Mientras que el color rojo es proporcional a la concentración de las burbujas, e indican en qué lugares los clientes compraron más veces. En cada gráfico, se añadió una etiqueta en las 3 zonas con mayor cantidad de ventas. \n",
        "\n",
        "Este análisis nos permite identificar visualmente **los lugares más importantes para cada tienda**."
      ]
    },
    {
      "cell_type": "code",
      "execution_count": null,
      "metadata": {
        "id": "qoyjqijQZHfF"
      },
      "outputs": [],
      "source": []
    },
    {
      "cell_type": "markdown",
      "metadata": {},
      "source": [
        "### Gráfico 9: Distribución de ventas según el lugar de compra\n",
        "Gráfico de pie con el porcentaje de ventas generado en cada lugar de compra del total. En el sector retail, **la segmentación greográfica** permite identificar dónde se concentran las ventas generadas por una cadena de tiendas. Con lo cual, los lugares que representan una mayor fracción de las ventas deben ser fidelizado."
      ]
    },
    {
      "cell_type": "code",
      "execution_count": null,
      "metadata": {},
      "outputs": [],
      "source": []
    },
    {
      "cell_type": "markdown",
      "metadata": {},
      "source": [
        "### Gráfico 10: Calificaciones promedios recibidas por cada tienda según el lugar de compra\n",
        "Gráfico de barras agrupadas por categorías que muestra la calificación promedio recibida por cada tienda en las 3 zonas que representan el mayor % de las ventas a nivel global. En línea con el gráfico 9, **las tiendas que prestan un mejor servicio** a los lugares que concentran la mayor cantidad de ventas deben permanecer abiertas."
      ]
    },
    {
      "cell_type": "code",
      "execution_count": null,
      "metadata": {
        "id": "0Sw3sd4IZIGW"
      },
      "outputs": [],
      "source": []
    },
    {
      "cell_type": "markdown",
      "metadata": {
        "id": "Fl0cGi3bZKqU"
      },
      "source": [
        "## 6. Informe final"
      ]
    }
  ],
  "metadata": {
    "colab": {
      "include_colab_link": true,
      "provenance": []
    },
    "kernelspec": {
      "display_name": "venv",
      "language": "python",
      "name": "python3"
    },
    "language_info": {
      "codemirror_mode": {
        "name": "ipython",
        "version": 3
      },
      "file_extension": ".py",
      "mimetype": "text/x-python",
      "name": "python",
      "nbconvert_exporter": "python",
      "pygments_lexer": "ipython3",
      "version": "3.11.9"
    }
  },
  "nbformat": 4,
  "nbformat_minor": 0
}
